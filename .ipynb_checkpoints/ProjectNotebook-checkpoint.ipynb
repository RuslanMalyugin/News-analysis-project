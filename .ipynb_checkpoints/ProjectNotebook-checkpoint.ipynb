{
 "cells": [
  {
   "cell_type": "markdown",
   "id": "satisfied-token",
   "metadata": {},
   "source": [
    "# Анализ источников информации для составления датасетов и средств извлечения данных"
   ]
  },
  {
   "cell_type": "markdown",
   "id": "wicked-bulgaria",
   "metadata": {},
   "source": [
    "## CNBC\n",
    "В качестве первого источника информации рассмотрим американский сайт новостей CNBN. Здесь довольно часто постят новости по актуальным темам политики и финансам. Рассмотрим несколько библиотек для работы с API сайта"
   ]
  },
  {
   "cell_type": "markdown",
   "id": "tamil-share",
   "metadata": {},
   "source": [
    "### ycnbc\n",
    "Первая либа для рассмотрения - ycnbc. Это (как и почти все остальные) либы не популярная, без документации и т.д. Но можно удобно без лишней работы доставать последние новости и ссылки на них. После можно скачать страничку по URL или работать с заголовком, потому что зачастую основная информация заключена в нем."
   ]
  },
  {
   "cell_type": "code",
   "execution_count": 12,
   "id": "determined-fisher",
   "metadata": {},
   "outputs": [],
   "source": [
    "import ycnbc\n",
    "\n",
    "data = ycnbc.News()\n",
    "\n",
    "# get trending news\n",
    "trending_ = data.trending() # return DataFrame\n",
    "\n",
    "# get latest news\n",
    "latest_ = data.latest() # return DataFrame\n",
    "\n",
    "# get news by category\n",
    "economy_ = data.economy() # return DataFrame"
   ]
  },
  {
   "cell_type": "code",
   "execution_count": 13,
   "id": "employed-clause",
   "metadata": {},
   "outputs": [
    {
     "data": {
      "text/html": [
       "<div>\n",
       "<style scoped>\n",
       "    .dataframe tbody tr th:only-of-type {\n",
       "        vertical-align: middle;\n",
       "    }\n",
       "\n",
       "    .dataframe tbody tr th {\n",
       "        vertical-align: top;\n",
       "    }\n",
       "\n",
       "    .dataframe thead th {\n",
       "        text-align: right;\n",
       "    }\n",
       "</style>\n",
       "<table border=\"1\" class=\"dataframe\">\n",
       "  <thead>\n",
       "    <tr style=\"text-align: right;\">\n",
       "      <th></th>\n",
       "      <th>Headline</th>\n",
       "      <th>Post Time</th>\n",
       "      <th>Link</th>\n",
       "    </tr>\n",
       "  </thead>\n",
       "  <tbody>\n",
       "    <tr>\n",
       "      <th>0</th>\n",
       "      <td>Alabama man charged in alleged scheme to viola...</td>\n",
       "      <td>29 Min Ago</td>\n",
       "      <td>https://www.cnbc.com/2022/11/29/alabama-man-ra...</td>\n",
       "    </tr>\n",
       "    <tr>\n",
       "      <th>1</th>\n",
       "      <td>What investors are watching when Salesforce re...</td>\n",
       "      <td>32 Min Ago</td>\n",
       "      <td>https://www.cnbc.com/2022/11/29/what-investors...</td>\n",
       "    </tr>\n",
       "    <tr>\n",
       "      <th>2</th>\n",
       "      <td>Tesla still dominant, but market share is erod...</td>\n",
       "      <td>52 Min Ago</td>\n",
       "      <td>https://www.cnbc.com/2022/11/29/teslas-dominan...</td>\n",
       "    </tr>\n",
       "    <tr>\n",
       "      <th>3</th>\n",
       "      <td>Early voters flock to polls in Georgia Senate ...</td>\n",
       "      <td>1 Hour Ago</td>\n",
       "      <td>https://www.cnbc.com/2022/11/29/georgia-senate...</td>\n",
       "    </tr>\n",
       "    <tr>\n",
       "      <th>4</th>\n",
       "      <td>McConnell suggests Trump is 'unlikely' to win ...</td>\n",
       "      <td>1 Hour Ago</td>\n",
       "      <td>https://www.cnbc.com/2022/11/29/mcconnell-crit...</td>\n",
       "    </tr>\n",
       "    <tr>\n",
       "      <th>5</th>\n",
       "      <td>A studious slant and whimsical mascot helped t...</td>\n",
       "      <td>1 Hour Ago</td>\n",
       "      <td>https://www.cnbc.com/2022/11/29/a-studious-sla...</td>\n",
       "    </tr>\n",
       "    <tr>\n",
       "      <th>6</th>\n",
       "      <td>Weakness in Appleâs stock could be a warning...</td>\n",
       "      <td>1 Hour Ago</td>\n",
       "      <td>https://www.cnbc.com/2022/11/29/weakness-in-ap...</td>\n",
       "    </tr>\n",
       "    <tr>\n",
       "      <th>7</th>\n",
       "      <td>Billionaire Elon Musk prefers caffeine-free Di...</td>\n",
       "      <td>1 Hour Ago</td>\n",
       "      <td>https://www.cnbc.com/2022/11/29/elon-musk-pref...</td>\n",
       "    </tr>\n",
       "    <tr>\n",
       "      <th>8</th>\n",
       "      <td>These are the key things to know before rebala...</td>\n",
       "      <td>2 Hours Ago</td>\n",
       "      <td>https://www.cnbc.com/2022/11/29/what-to-know-b...</td>\n",
       "    </tr>\n",
       "    <tr>\n",
       "      <th>9</th>\n",
       "      <td>Recent weakness in strong dollar is welcome ne...</td>\n",
       "      <td>2 Hours Ago</td>\n",
       "      <td>https://www.cnbc.com/2022/11/29/recent-weaknes...</td>\n",
       "    </tr>\n",
       "    <tr>\n",
       "      <th>10</th>\n",
       "      <td>The fear of loss can cost investors big-time. ...</td>\n",
       "      <td>2 Hours Ago</td>\n",
       "      <td>https://www.cnbc.com/2022/11/29/the-fear-of-lo...</td>\n",
       "    </tr>\n",
       "    <tr>\n",
       "      <th>11</th>\n",
       "      <td>BlockFi lawyer tells bankruptcy court priority...</td>\n",
       "      <td>2 Hours Ago</td>\n",
       "      <td>https://www.cnbc.com/2022/11/29/blockfi-lawyer...</td>\n",
       "    </tr>\n",
       "    <tr>\n",
       "      <th>12</th>\n",
       "      <td>These defensive stocks are looking more attrac...</td>\n",
       "      <td>2 Hours Ago</td>\n",
       "      <td>https://www.cnbc.com/2022/11/29/these-defensiv...</td>\n",
       "    </tr>\n",
       "    <tr>\n",
       "      <th>13</th>\n",
       "      <td>This is the moment when you should sell some s...</td>\n",
       "      <td>2 Hours Ago</td>\n",
       "      <td>https://www.cnbc.com/2022/11/29/this-is-the-mo...</td>\n",
       "    </tr>\n",
       "    <tr>\n",
       "      <th>14</th>\n",
       "      <td>Netflixâs 'Glass Onion' loses out on box off...</td>\n",
       "      <td>2 Hours Ago</td>\n",
       "      <td>https://www.cnbc.com/2022/11/29/netflix-glass-...</td>\n",
       "    </tr>\n",
       "    <tr>\n",
       "      <th>15</th>\n",
       "      <td>These companies are flush with cash if a reces...</td>\n",
       "      <td>3 Hours Ago</td>\n",
       "      <td>https://www.cnbc.com/2022/11/29/these-companie...</td>\n",
       "    </tr>\n",
       "    <tr>\n",
       "      <th>16</th>\n",
       "      <td>Apple's weakness could stem from safety-seekin...</td>\n",
       "      <td>3 Hours Ago</td>\n",
       "      <td>https://www.cnbc.com/2022/11/29/apples-weaknes...</td>\n",
       "    </tr>\n",
       "    <tr>\n",
       "      <th>17</th>\n",
       "      <td>Dr. Jha: We can 'move on' from Covid if people...</td>\n",
       "      <td>3 Hours Ago</td>\n",
       "      <td>https://www.cnbc.com/2022/11/29/dr-jha-us-can-...</td>\n",
       "    </tr>\n",
       "    <tr>\n",
       "      <th>18</th>\n",
       "      <td>Stocks making the biggest moves midday: Apple,...</td>\n",
       "      <td>3 Hours Ago</td>\n",
       "      <td>https://www.cnbc.com/2022/11/29/stocks-making-...</td>\n",
       "    </tr>\n",
       "    <tr>\n",
       "      <th>19</th>\n",
       "      <td>Tesla is suffering from Musk's Twitter controv...</td>\n",
       "      <td>3 Hours Ago</td>\n",
       "      <td>https://www.cnbc.com/2022/11/29/teslas-stock-i...</td>\n",
       "    </tr>\n",
       "    <tr>\n",
       "      <th>20</th>\n",
       "      <td>Railroads, unions draw lines in sand as Biden,...</td>\n",
       "      <td>4 Hours Ago</td>\n",
       "      <td>https://www.cnbc.com/2022/11/29/rails-unions-d...</td>\n",
       "    </tr>\n",
       "    <tr>\n",
       "      <th>21</th>\n",
       "      <td>3 investing lessons from the Clubâs meeting ...</td>\n",
       "      <td>4 Hours Ago</td>\n",
       "      <td>https://www.cnbc.com/2022/11/29/jim-cramers-in...</td>\n",
       "    </tr>\n",
       "    <tr>\n",
       "      <th>22</th>\n",
       "      <td>Shopper turnout hit a record high over Black F...</td>\n",
       "      <td>4 Hours Ago</td>\n",
       "      <td>https://www.cnbc.com/2022/11/29/shopper-turnou...</td>\n",
       "    </tr>\n",
       "    <tr>\n",
       "      <th>23</th>\n",
       "      <td>Amazon experimented with AWS on a satellite in...</td>\n",
       "      <td>5 Hours Ago</td>\n",
       "      <td>https://www.cnbc.com/2022/11/29/amazon-aws-exp...</td>\n",
       "    </tr>\n",
       "    <tr>\n",
       "      <th>24</th>\n",
       "      <td>Biden rule would limit methane leaks, gas flar...</td>\n",
       "      <td>5 Hours Ago</td>\n",
       "      <td>https://www.cnbc.com/2022/11/29/biden-rule-to-...</td>\n",
       "    </tr>\n",
       "    <tr>\n",
       "      <th>25</th>\n",
       "      <td>Yardeni says bond yields point to a bottom for...</td>\n",
       "      <td>5 Hours Ago</td>\n",
       "      <td>https://www.cnbc.com/2022/11/29/yardeni-says-b...</td>\n",
       "    </tr>\n",
       "    <tr>\n",
       "      <th>26</th>\n",
       "      <td>Social Security benefits and 'unretirement': W...</td>\n",
       "      <td>5 Hours Ago</td>\n",
       "      <td>https://www.cnbc.com/2022/11/29/social-securit...</td>\n",
       "    </tr>\n",
       "    <tr>\n",
       "      <th>27</th>\n",
       "      <td>47% of daters say this is a 'deal breaker' in ...</td>\n",
       "      <td>5 Hours Ago</td>\n",
       "      <td>https://www.cnbc.com/2022/11/29/tinder-users-s...</td>\n",
       "    </tr>\n",
       "    <tr>\n",
       "      <th>28</th>\n",
       "      <td>Twitter stops policing Covid-19 misinformation...</td>\n",
       "      <td>5 Hours Ago</td>\n",
       "      <td>https://www.cnbc.com/2022/11/29/twitter-stops-...</td>\n",
       "    </tr>\n",
       "    <tr>\n",
       "      <th>29</th>\n",
       "      <td>Here's why Cathie Wood thinks bitcoin will hit...</td>\n",
       "      <td>5 Hours Ago</td>\n",
       "      <td>https://www.cnbc.com/2022/11/29/why-cathie-woo...</td>\n",
       "    </tr>\n",
       "  </tbody>\n",
       "</table>\n",
       "</div>"
      ],
      "text/plain": [
       "                                             Headline    Post Time  \\\n",
       "0   Alabama man charged in alleged scheme to viola...   29 Min Ago   \n",
       "1   What investors are watching when Salesforce re...   32 Min Ago   \n",
       "2   Tesla still dominant, but market share is erod...   52 Min Ago   \n",
       "3   Early voters flock to polls in Georgia Senate ...   1 Hour Ago   \n",
       "4   McConnell suggests Trump is 'unlikely' to win ...   1 Hour Ago   \n",
       "5   A studious slant and whimsical mascot helped t...   1 Hour Ago   \n",
       "6   Weakness in Appleâs stock could be a warning...   1 Hour Ago   \n",
       "7   Billionaire Elon Musk prefers caffeine-free Di...   1 Hour Ago   \n",
       "8   These are the key things to know before rebala...  2 Hours Ago   \n",
       "9   Recent weakness in strong dollar is welcome ne...  2 Hours Ago   \n",
       "10  The fear of loss can cost investors big-time. ...  2 Hours Ago   \n",
       "11  BlockFi lawyer tells bankruptcy court priority...  2 Hours Ago   \n",
       "12  These defensive stocks are looking more attrac...  2 Hours Ago   \n",
       "13  This is the moment when you should sell some s...  2 Hours Ago   \n",
       "14  Netflixâs 'Glass Onion' loses out on box off...  2 Hours Ago   \n",
       "15  These companies are flush with cash if a reces...  3 Hours Ago   \n",
       "16  Apple's weakness could stem from safety-seekin...  3 Hours Ago   \n",
       "17  Dr. Jha: We can 'move on' from Covid if people...  3 Hours Ago   \n",
       "18  Stocks making the biggest moves midday: Apple,...  3 Hours Ago   \n",
       "19  Tesla is suffering from Musk's Twitter controv...  3 Hours Ago   \n",
       "20  Railroads, unions draw lines in sand as Biden,...  4 Hours Ago   \n",
       "21  3 investing lessons from the Clubâs meeting ...  4 Hours Ago   \n",
       "22  Shopper turnout hit a record high over Black F...  4 Hours Ago   \n",
       "23  Amazon experimented with AWS on a satellite in...  5 Hours Ago   \n",
       "24  Biden rule would limit methane leaks, gas flar...  5 Hours Ago   \n",
       "25  Yardeni says bond yields point to a bottom for...  5 Hours Ago   \n",
       "26  Social Security benefits and 'unretirement': W...  5 Hours Ago   \n",
       "27  47% of daters say this is a 'deal breaker' in ...  5 Hours Ago   \n",
       "28  Twitter stops policing Covid-19 misinformation...  5 Hours Ago   \n",
       "29  Here's why Cathie Wood thinks bitcoin will hit...  5 Hours Ago   \n",
       "\n",
       "                                                 Link  \n",
       "0   https://www.cnbc.com/2022/11/29/alabama-man-ra...  \n",
       "1   https://www.cnbc.com/2022/11/29/what-investors...  \n",
       "2   https://www.cnbc.com/2022/11/29/teslas-dominan...  \n",
       "3   https://www.cnbc.com/2022/11/29/georgia-senate...  \n",
       "4   https://www.cnbc.com/2022/11/29/mcconnell-crit...  \n",
       "5   https://www.cnbc.com/2022/11/29/a-studious-sla...  \n",
       "6   https://www.cnbc.com/2022/11/29/weakness-in-ap...  \n",
       "7   https://www.cnbc.com/2022/11/29/elon-musk-pref...  \n",
       "8   https://www.cnbc.com/2022/11/29/what-to-know-b...  \n",
       "9   https://www.cnbc.com/2022/11/29/recent-weaknes...  \n",
       "10  https://www.cnbc.com/2022/11/29/the-fear-of-lo...  \n",
       "11  https://www.cnbc.com/2022/11/29/blockfi-lawyer...  \n",
       "12  https://www.cnbc.com/2022/11/29/these-defensiv...  \n",
       "13  https://www.cnbc.com/2022/11/29/this-is-the-mo...  \n",
       "14  https://www.cnbc.com/2022/11/29/netflix-glass-...  \n",
       "15  https://www.cnbc.com/2022/11/29/these-companie...  \n",
       "16  https://www.cnbc.com/2022/11/29/apples-weaknes...  \n",
       "17  https://www.cnbc.com/2022/11/29/dr-jha-us-can-...  \n",
       "18  https://www.cnbc.com/2022/11/29/stocks-making-...  \n",
       "19  https://www.cnbc.com/2022/11/29/teslas-stock-i...  \n",
       "20  https://www.cnbc.com/2022/11/29/rails-unions-d...  \n",
       "21  https://www.cnbc.com/2022/11/29/jim-cramers-in...  \n",
       "22  https://www.cnbc.com/2022/11/29/shopper-turnou...  \n",
       "23  https://www.cnbc.com/2022/11/29/amazon-aws-exp...  \n",
       "24  https://www.cnbc.com/2022/11/29/biden-rule-to-...  \n",
       "25  https://www.cnbc.com/2022/11/29/yardeni-says-b...  \n",
       "26  https://www.cnbc.com/2022/11/29/social-securit...  \n",
       "27  https://www.cnbc.com/2022/11/29/tinder-users-s...  \n",
       "28  https://www.cnbc.com/2022/11/29/twitter-stops-...  \n",
       "29  https://www.cnbc.com/2022/11/29/why-cathie-woo...  "
      ]
     },
     "execution_count": 13,
     "metadata": {},
     "output_type": "execute_result"
    }
   ],
   "source": [
    "latest_"
   ]
  },
  {
   "cell_type": "markdown",
   "id": "tracked-citizenship",
   "metadata": {},
   "source": [
    "Методы возвращают последние 30 новостей.\n",
    "Попробуем спарсить одну страницу"
   ]
  },
  {
   "cell_type": "code",
   "execution_count": 14,
   "id": "rolled-columbus",
   "metadata": {},
   "outputs": [
    {
     "data": {
      "text/plain": [
       "'https://www.cnbc.com/2022/11/29/alabama-man-ray-hunt-charged-in-alleged-scheme-to-violate-us-sanctions-on-iran.html'"
      ]
     },
     "execution_count": 14,
     "metadata": {},
     "output_type": "execute_result"
    }
   ],
   "source": [
    "URL = latest_['Link'].values[0]\n",
    "URL"
   ]
  },
  {
   "cell_type": "markdown",
   "id": "recovered-think",
   "metadata": {},
   "source": [
    "Для того, чтобы открыть страницу будет использовать библиотеку urllib"
   ]
  },
  {
   "cell_type": "code",
   "execution_count": 15,
   "id": "limiting-danger",
   "metadata": {},
   "outputs": [
    {
     "name": "stderr",
     "output_type": "stream",
     "text": [
      "<ipython-input-15-fc7dedfca0ea>:2: DeprecationWarning: FancyURLopener style of invoking requests is deprecated. Use newer urlopen functions/methods\n",
      "  opener = urllib.request.FancyURLopener({})\n"
     ]
    }
   ],
   "source": [
    "import urllib.request\n",
    "opener = urllib.request.FancyURLopener({})\n",
    "f = opener.open(URL)\n",
    "content = f.read()"
   ]
  },
  {
   "cell_type": "markdown",
   "id": "dedicated-combination",
   "metadata": {},
   "source": [
    "Для парсинга воспользуемся BeautifulSoup. Это удобная библиотека для работы с HTML в python"
   ]
  },
  {
   "cell_type": "code",
   "execution_count": 16,
   "id": "rubber-julian",
   "metadata": {},
   "outputs": [],
   "source": [
    "try: \n",
    "    from BeautifulSoup import BeautifulSoup\n",
    "except ImportError:\n",
    "    from bs4 import BeautifulSoup\n",
    "html = str(content)\n",
    "parsed_html = BeautifulSoup(html)\n",
    "clear_text = parsed_html.body.find('div', attrs={'class':'ArticleBody-articleBody'}).text"
   ]
  },
  {
   "cell_type": "code",
   "execution_count": 17,
   "id": "official-heaven",
   "metadata": {},
   "outputs": [
    {
     "data": {
      "text/plain": [
       "\"An Iranian national flag flies above the new Phase 3 facility at the Persian Gulf Star Co. (PGSPC) gas condensate refinery in Bandar Abbas, Iran, on Wednesday, Jan. 9. 2019. The third phase of the refinery begins operations next week and will add 12-15 million liters a day of gasoline output capacity to the plant, Deputy Oil Minister Alireza Sadeghabadi told reporters.Ali Mohammadi | Bloomberg | Getty ImagesThe Justice Department has charged an Alabama man with violating U.S. sanctions, alleging he schemed to sell oil and gas industry equipment in Iran. The DOJ indicted Ray Hunt, 69, of Madison County, Ala., on 15 counts, including conspiracy to defraud the U.S., sanctions violations, smuggling goods and submitting false or misleading export information, according to an indictment unsealed Tuesday. If convicted, he faces up to 20 years in prison and as much a $1 million fine.Hunt is a naturalized citizen born in Iran, according to the indictment. He is also known as Abdolrahman Hantoosh, Rahman Hantoosh and Rahman Natoosh.The U.S. alleges that Hunt began planning in November 2017 to bypass sanctions by shipping control valves, oil tubing and other goods of U.S. origin from his Alabama-based company, Vega Tools LLC, through Turkey and the United Arab Emirates to Iranian customers.He was arrested and made his initial court appearance Tuesday.Former President Bill Clinton signed an executive order in 1995 prohibiting certain transactions related to Iran's petroleum resources. Every president has extended the order since 1997, according to the indictment.\""
      ]
     },
     "execution_count": 17,
     "metadata": {},
     "output_type": "execute_result"
    }
   ],
   "source": [
    "clear_text"
   ]
  },
  {
   "cell_type": "markdown",
   "id": "arranged-charter",
   "metadata": {},
   "source": [
    "Уберем символы, такие как \"\\xe2\\x80\\x94\""
   ]
  },
  {
   "cell_type": "code",
   "execution_count": 45,
   "id": "ranging-royalty",
   "metadata": {},
   "outputs": [
    {
     "data": {
      "text/plain": [
       "'Monday\\'s 1.5% haircut for the S & P 500 was largely attributed to the unrest in China, but several traders brought up Fed Chair Jay Powell\\'s Wednesday\\'s speech at the Brookings Institution. The subject is \"The Economic Outlook and the Labor Market.\" The fear is that Powell will use the speech to smack down the modest market rally (about 10% since the Oct 12. bottom), which is largely based on the belief that the pace of rate hikes will begin to slow in December. It didn\\'t help that midday yesterday St. Louis Fed President James Bullard said that \"markets are underpricing a little bit the risk that the FOMC will have to be more aggressive rather than less aggressive in order to contain the very substantial inflation that we have in the U.S.\" Bullard reiterated the \"higher for longer\" theme, noting: \"I think we\\'ll have to stay there all during 2023 and into 2024.\" There it goes again: you traders are too optimistic.We\\'re not ending the rate hikes any time soon, and we are going to stay higher for much longer than you think. Those comments, along with other hawkish sounding statements from Fed Vice Chair Lael Brainard, have everyone convinced Powell will pull another Jackson Hole on Wednesday. \"They are all setting the stage for a hawkish performance from Chairman Powell on Wednesday, despite the step down in the pace of rate hikes,\" Mike O\\'Rourke from Jones Trading said in a note to clients last night. Powell is also likely unhappy about the decline in bond yields: the 10-year Treasury yield has to 3.66% today from from roughly 4.2% three weeks ago. \"That also has, from their [the Fed\\'s] standpoint, the perverse effect of easing financial conditions, i.e. offsetting some of what they are trying to do, and so I think their focus has to try to keep the 10-year [yield] from dropping too much, to try to keep financial conditions relatively tight, so they can finish their job without having to deal with an economy that starts to take off again,\" former Fed vice chair Roger Ferguson said on CNBC this morning. Indeed mortgage rates are already lower:A 30-year fixed rate mortgage has gone to 6.81% today from 7.24% on November 11th, according to Bankrate. So there you have it:the Fed wants tighter financial conditions.They don\\'t want stocks to rally, yields to decline, mortgage rates to drop until there are persistent signs that inflation is cooling off. Little wonder the bears think there is a ceiling to the market rally:Assuming earnings will be flat next year ($220) and the market remains at an historic average multiple of 17 times forward earnings, the value of the S & P 500 is currently 3,740. That is 200 points lower than were the S & P sits today. The issue is, how many times is Powell going to reiterate this theme before it gets old?'"
      ]
     },
     "execution_count": 45,
     "metadata": {},
     "output_type": "execute_result"
    }
   ],
   "source": [
    "import re\n",
    "clear_text = re.sub(r\"\\\\.{3}\", \"\", clear_text)\n",
    "clear_text"
   ]
  },
  {
   "cell_type": "markdown",
   "id": "fewer-requirement",
   "metadata": {},
   "source": [
    "Для примера попробуем это проделать еще с какой-то страницей"
   ]
  },
  {
   "cell_type": "code",
   "execution_count": 60,
   "id": "enabling-transmission",
   "metadata": {},
   "outputs": [
    {
     "data": {
      "text/plain": [
       "'Ukraine\\'s President Volodymyr Zelenskyy said that fighting remains intense along the entire front line in the south and east of the country as the war appears to enter a period of stalemate after solid gains by Ukraine in recent months.\"The situation is difficult on the entire front. Fierce positional battles continue in some areas, as before. And it is especially difficult in Donetsk region, as before. The occupiers are suffering extremely large-scale losses, but their order to move to the administrative border of Donetsk region has not changed. We are not surrendering a single centimeter of our land there,\" he said in his nightly address Tuesday.Ukrainian soldiers of an artillery unit fire toward Russian positions outside Bakhmut on Nov. 8, 2022.Bulent Kilic | AFP | Getty ImagesUkraine has launched successful counteroffensives in both the east of the country, around Kharkiv and southward towards Donetsk, as well as in the southern Kherson region, making sizeable gains in the east in particular.In recent weeks, however, the fighting appears to have entered a period of stalemate with neither side making any dramatic advances. Nonetheless, fighting remains intense around the Bakhmut and Avdiivka areas of Donetsk, a factor touched upon by Zelenskyy last night.'"
      ]
     },
     "execution_count": 60,
     "metadata": {},
     "output_type": "execute_result"
    }
   ],
   "source": [
    "URL = latest_['Link'].values[2]\n",
    "f = opener.open(URL)\n",
    "content = f.read()\n",
    "html = str(content)\n",
    "parsed_html = BeautifulSoup(html)\n",
    "clear_text = parsed_html.body.find('div', attrs={'class':'FeaturedContent-articleBody'}).text\n",
    "clear_text = re.sub(r\"\\\\.{3}\", \"\", clear_text)\n",
    "clear_text"
   ]
  },
  {
   "cell_type": "markdown",
   "id": "lightweight-victorian",
   "metadata": {},
   "source": [
    "Обнаружена проблема - на некоторых страницах класс с текстом назван по-разному.\n",
    "Так же в некоторые статьи включена картинка и ее тоже надо как-то удалить. Но в целом получается неплохо."
   ]
  },
  {
   "cell_type": "markdown",
   "id": "former-kruger",
   "metadata": {},
   "source": [
    "### cnbc\n",
    "Более гибкая для использования библиотека.\n",
    "Для использования нужна регистрация и получение API-KEY. Можно выполнять поиск по тегам и многие другие функции для удобного поиска.\n",
    "Самый большой минус - цена. Но бесплатно можно использовать 500 запросов в месяц."
   ]
  },
  {
   "attachments": {
    "%D0%A1%D0%BD%D0%B8%D0%BC%D0%BE%D0%BA%20%D1%8D%D0%BA%D1%80%D0%B0%D0%BD%D0%B0%202022-11-09%20140517.jpg": {
     "image/jpeg": "[encoded data removed]"
    }
   },
   "cell_type": "markdown",
   "id": "studied-sailing",
   "metadata": {},
   "source": [
    "![%D0%A1%D0%BD%D0%B8%D0%BC%D0%BE%D0%BA%20%D1%8D%D0%BA%D1%80%D0%B0%D0%BD%D0%B0%202022-11-09%20140517.jpg](attachment:%D0%A1%D0%BD%D0%B8%D0%BC%D0%BE%D0%BA%20%D1%8D%D0%BA%D1%80%D0%B0%D0%BD%D0%B0%202022-11-09%20140517.jpg)"
   ]
  },
  {
   "cell_type": "markdown",
   "id": "convertible-layer",
   "metadata": {},
   "source": [
    "Сохраним API-KEY в файл для безопасности."
   ]
  },
  {
   "cell_type": "code",
   "execution_count": 2,
   "id": "interior-things",
   "metadata": {},
   "outputs": [],
   "source": [
    "f = open('CNBC-API-KEY.txt')\n",
    "API_KEY = f.read()"
   ]
  },
  {
   "cell_type": "code",
   "execution_count": 3,
   "id": "round-calendar",
   "metadata": {},
   "outputs": [],
   "source": [
    "import cnbc"
   ]
  },
  {
   "cell_type": "code",
   "execution_count": 48,
   "id": "thorough-trace",
   "metadata": {},
   "outputs": [],
   "source": [
    "json_resp = cnbc.get_metadata(api_key=API_KEY)"
   ]
  },
  {
   "cell_type": "code",
   "execution_count": 70,
   "id": "technological-omaha",
   "metadata": {},
   "outputs": [
    {
     "data": {
      "text/plain": [
       "{'data': {'mostPopularEntries': {'__typename': 'assetList',\n",
       "   'assets': [{'__typename': 'live_story',\n",
       "     'id': 107145500,\n",
       "     'headline': 'Midterm updates: Democrats flip key PA Senate seat, while House control up in the air, NBC projects',\n",
       "     'shorterHeadline': 'Midterm updates: Democrats flip key PA Senate seat, while House control up in the air, NBC projects',\n",
       "     'dateLastPublished': '2022-11-09T08:40:10+0000',\n",
       "     'description': \"The midterm elections will determine whether Democrats keep their congressional majorities. The outcome could have an impact on President Joe Biden's agenda.\",\n",
       "     'pageName': '107145500|2022/11/08/midterm-elections-2022-live-updates',\n",
       "     'relatedTagsFilteredFormatted': 'congress|us senate|donald trump|joe biden|breaking news politics|economy|inflation|crime|elections|politics|joe biden|donald trump',\n",
       "     'dateFirstPublished': '2022-11-08T12:00:09+0000',\n",
       "     'sectionHierarchyFormatted': 'politics',\n",
       "     'authorFormatted': 'emma kinery|chelsey cox|kevin breuninger|christina wilkie',\n",
       "     'shortDateFirstPublished': '11/08/2022',\n",
       "     'shortDateLastPublished': '11/9/2022',\n",
       "     'url': 'https://www.cnbc.com/2022/11/08/midterm-elections-2022-live-updates.html',\n",
       "     'type': 'live_story',\n",
       "     'premium': False,\n",
       "     'promoImage': {'__typename': 'infographic',\n",
       "      'id': 107146778,\n",
       "      'url': 'https://image.cnbcfm.com/api/v1/image/107146778-16677424702022-11-06t020706z_607550782_rc2yfx9mvler_rtrmadp_0_usa-election-biden-obama.jpeg?v=1667974490'},\n",
       "     'featuredMedia': None,\n",
       "     'section': {'__typename': 'franchise',\n",
       "      'id': 10000113,\n",
       "      'shortestHeadline': 'Politics',\n",
       "      'tagName': 'Politics',\n",
       "      'url': 'https://www.cnbc.com/politics/',\n",
       "      'premium': False}},\n",
       "    {'__typename': 'cnbcnewsstory',\n",
       "     'id': 107148561,\n",
       "     'headline': \"Trump's favorite candidates disappoint on Election Day, raising questions about his 2024 pitch \",\n",
       "     'shorterHeadline': \"Trump's favorite midterm candidates disappoint, raising questions about 2024\",\n",
       "     'dateLastPublished': '2022-11-09T10:41:34+0000',\n",
       "     'description': \"Former President Donald Trump's chosen candidates did not fare as he had hoped in the 2022 midterm elections.\",\n",
       "     'pageName': '107148561|2022/11/09/midterm-election-results-trump-candidates-disappoint-on-election-day',\n",
       "     'relatedTagsFilteredFormatted': 'politics|white house|congress|economy|donald trump|voting|presidential elections|donald trump',\n",
       "     'dateFirstPublished': '2022-11-09T10:16:16+0000',\n",
       "     'sectionHierarchyFormatted': 'politics',\n",
       "     'authorFormatted': 'christina wilkie',\n",
       "     'shortDateFirstPublished': '11/9/2022',\n",
       "     'shortDateLastPublished': '11/9/2022',\n",
       "     'url': 'https://www.cnbc.com/2022/11/09/midterm-election-results-trump-candidates-disappoint-on-election-day.html',\n",
       "     'type': 'cnbcnewsstory',\n",
       "     'premium': False,\n",
       "     'promoImage': {'__typename': 'infographic',\n",
       "      'id': 107148433,\n",
       "      'url': 'https://image.cnbcfm.com/api/v1/image/107148433-1667953672608-dj.jpg?v=1667988976'},\n",
       "     'featuredMedia': None,\n",
       "     'section': {'__typename': 'franchise',\n",
       "      'id': 10000113,\n",
       "      'shortestHeadline': 'Politics',\n",
       "      'tagName': 'Politics',\n",
       "      'url': 'https://www.cnbc.com/politics/',\n",
       "      'premium': False}},\n",
       "    {'__typename': 'cnbcnewsstory',\n",
       "     'id': 106993218,\n",
       "     'headline': \"Mark Cuban flew to Vegas to celebrate his company's $5.7 billion sale–and ended up in a middle seat\",\n",
       "     'shorterHeadline': 'Mark Cuban got the middle seat on his first flight as a billionaire',\n",
       "     'dateLastPublished': '2021-12-24T14:00:01+0000',\n",
       "     'description': 'Entrepreneur and investor Mark Cuban wanted to celebrate the $5.7 billion sale of his company, Broadcast.com, to Yahoo. His trip to Las Vegas quickly took a turn.',\n",
       "     'pageName': '106993218|2021/12/24/mark-cuban-got-the-middle-seat-on-his-first-flight-as-a-billionaire',\n",
       "     'relatedTagsFilteredFormatted': 'mark cuban|entrepreneurship',\n",
       "     'dateFirstPublished': '2021-12-24T14:00:01+0000',\n",
       "     'sectionHierarchyFormatted': 'make it success|make it power players',\n",
       "     'authorFormatted': 'nicolas vega',\n",
       "     'shortDateFirstPublished': '12/24/2021',\n",
       "     'shortDateLastPublished': '12/24/2021',\n",
       "     'url': 'https://www.cnbc.com/2021/12/24/mark-cuban-got-the-middle-seat-on-his-first-flight-as-a-billionaire.html',\n",
       "     'type': 'cnbcnewsstory',\n",
       "     'premium': False,\n",
       "     'promoImage': {'__typename': 'infographic',\n",
       "      'id': 106993226,\n",
       "      'url': 'https://image.cnbcfm.com/api/v1/image/106993226-1640270075578-gettyimages-1234615179-LUDAKS-5360.jpeg?v=1640973998'},\n",
       "     'featuredMedia': {'__typename': 'image',\n",
       "      'url': 'https://image.cnbcfm.com/api/v1/image/106993226-1640270075578-gettyimages-1234615179-LUDAKS-5360.jpeg?v=1640973998',\n",
       "      'type': 'image'},\n",
       "     'section': {'__typename': 'franchise',\n",
       "      'id': 105444454,\n",
       "      'shortestHeadline': 'Power Players',\n",
       "      'tagName': 'Make It - Power Players',\n",
       "      'url': 'https://www.cnbc.com/make-it/power-players/',\n",
       "      'premium': False}}]}},\n",
       " 'extensions': {'tracing': {'version': 1,\n",
       "   'startTime': '2022-11-09T11:07:30.585Z',\n",
       "   'endTime': '2022-11-09T11:07:30.830Z',\n",
       "   'duration': 245347170,\n",
       "   'execution': {'resolvers': [{'path': ['mostPopularEntries'],\n",
       "      'parentType': 'Query',\n",
       "      'fieldName': 'mostPopular',\n",
       "      'returnType': 'assetList',\n",
       "      'startOffset': 1450045,\n",
       "      'duration': 242843199},\n",
       "     {'path': ['mostPopularEntries', 'assets'],\n",
       "      'parentType': 'assetList',\n",
       "      'fieldName': 'assets',\n",
       "      'returnType': '[assetInterface]',\n",
       "      'startOffset': 244320373,\n",
       "      'duration': 51096},\n",
       "     {'path': ['mostPopularEntries', 'assets', 0, 'id'],\n",
       "      'parentType': 'live_story',\n",
       "      'fieldName': 'id',\n",
       "      'returnType': 'Int',\n",
       "      'startOffset': 244402113,\n",
       "      'duration': 2855},\n",
       "     {'path': ['mostPopularEntries', 'assets', 0, 'headline'],\n",
       "      'parentType': 'live_story',\n",
       "      'fieldName': 'headline',\n",
       "      'returnType': 'String',\n",
       "      'startOffset': 244408444,\n",
       "      'duration': 1468},\n",
       "     {'path': ['mostPopularEntries', 'assets', 0, 'shorterHeadline'],\n",
       "      'parentType': 'live_story',\n",
       "      'fieldName': 'shorterHeadline',\n",
       "      'returnType': 'String',\n",
       "      'startOffset': 244411284,\n",
       "      'duration': 532},\n",
       "     {'path': ['mostPopularEntries', 'assets', 0, 'dateLastPublished'],\n",
       "      'parentType': 'live_story',\n",
       "      'fieldName': 'dateLastPublished',\n",
       "      'returnType': 'String',\n",
       "      'startOffset': 244413239,\n",
       "      'duration': 539},\n",
       "     {'path': ['mostPopularEntries', 'assets', 0, 'description'],\n",
       "      'parentType': 'live_story',\n",
       "      'fieldName': 'description',\n",
       "      'returnType': 'String',\n",
       "      'startOffset': 244414938,\n",
       "      'duration': 617},\n",
       "     {'path': ['mostPopularEntries', 'assets', 0, 'pageName'],\n",
       "      'parentType': 'live_story',\n",
       "      'fieldName': 'pageName',\n",
       "      'returnType': 'String',\n",
       "      'startOffset': 244419449,\n",
       "      'duration': 10390},\n",
       "     {'path': ['mostPopularEntries',\n",
       "       'assets',\n",
       "       0,\n",
       "       'relatedTagsFilteredFormatted'],\n",
       "      'parentType': 'live_story',\n",
       "      'fieldName': 'relatedTagsFilteredFormatted',\n",
       "      'returnType': 'String',\n",
       "      'startOffset': 244431744,\n",
       "      'duration': 708421},\n",
       "     {'path': ['mostPopularEntries', 'assets', 0, 'dateFirstPublished'],\n",
       "      'parentType': 'live_story',\n",
       "      'fieldName': 'dateFirstPublished',\n",
       "      'returnType': 'String',\n",
       "      'startOffset': 244529298,\n",
       "      'duration': 1298},\n",
       "     {'path': ['mostPopularEntries', 'assets', 0, 'sectionHierarchyFormatted'],\n",
       "      'parentType': 'live_story',\n",
       "      'fieldName': 'sectionHierarchyFormatted',\n",
       "      'returnType': 'String',\n",
       "      'startOffset': 244532538,\n",
       "      'duration': 611878},\n",
       "     {'path': ['mostPopularEntries', 'assets', 0, 'authorFormatted'],\n",
       "      'parentType': 'live_story',\n",
       "      'fieldName': 'authorFormatted',\n",
       "      'returnType': 'String',\n",
       "      'startOffset': 244564245,\n",
       "      'duration': 6776},\n",
       "     {'path': ['mostPopularEntries', 'assets', 0, 'shortDateFirstPublished'],\n",
       "      'parentType': 'live_story',\n",
       "      'fieldName': 'shortDateFirstPublished',\n",
       "      'returnType': 'String',\n",
       "      'startOffset': 244572574,\n",
       "      'duration': 15685},\n",
       "     {'path': ['mostPopularEntries', 'assets', 0, 'shortDateLastPublished'],\n",
       "      'parentType': 'live_story',\n",
       "      'fieldName': 'shortDateLastPublished',\n",
       "      'returnType': 'String',\n",
       "      'startOffset': 244590528,\n",
       "      'duration': 3499},\n",
       "     {'path': ['mostPopularEntries', 'assets', 0, 'url'],\n",
       "      'parentType': 'live_story',\n",
       "      'fieldName': 'url',\n",
       "      'returnType': 'String',\n",
       "      'startOffset': 244595387,\n",
       "      'duration': 2540},\n",
       "     {'path': ['mostPopularEntries', 'assets', 0, 'type'],\n",
       "      'parentType': 'live_story',\n",
       "      'fieldName': 'type',\n",
       "      'returnType': 'String',\n",
       "      'startOffset': 244598965,\n",
       "      'duration': 725},\n",
       "     {'path': ['mostPopularEntries', 'assets', 0, 'premium'],\n",
       "      'parentType': 'live_story',\n",
       "      'fieldName': 'premium',\n",
       "      'returnType': 'Boolean',\n",
       "      'startOffset': 244600946,\n",
       "      'duration': 1943},\n",
       "     {'path': ['mostPopularEntries', 'assets', 0, 'promoImage'],\n",
       "      'parentType': 'live_story',\n",
       "      'fieldName': 'promoImage',\n",
       "      'returnType': 'infographic',\n",
       "      'startOffset': 244605038,\n",
       "      'duration': 2955},\n",
       "     {'path': ['mostPopularEntries', 'assets', 0, 'promoImage', 'id'],\n",
       "      'parentType': 'infographic',\n",
       "      'fieldName': 'id',\n",
       "      'returnType': 'Int',\n",
       "      'startOffset': 244612998,\n",
       "      'duration': 1251},\n",
       "     {'path': ['mostPopularEntries', 'assets', 0, 'promoImage', 'url'],\n",
       "      'parentType': 'infographic',\n",
       "      'fieldName': 'url',\n",
       "      'returnType': 'String',\n",
       "      'startOffset': 244616030,\n",
       "      'duration': 1104},\n",
       "     {'path': ['mostPopularEntries', 'assets', 0, 'featuredMedia'],\n",
       "      'parentType': 'live_story',\n",
       "      'fieldName': 'featuredMedia',\n",
       "      'returnType': 'featuredMedia',\n",
       "      'startOffset': 244620041,\n",
       "      'duration': 527489},\n",
       "     {'path': ['mostPopularEntries', 'assets', 0, 'section'],\n",
       "      'parentType': 'live_story',\n",
       "      'fieldName': 'section',\n",
       "      'returnType': 'franchise',\n",
       "      'startOffset': 244640805,\n",
       "      'duration': 509553},\n",
       "     {'path': ['mostPopularEntries', 'assets', 1, 'id'],\n",
       "      'parentType': 'cnbcnewsstory',\n",
       "      'fieldName': 'id',\n",
       "      'returnType': 'Int',\n",
       "      'startOffset': 244751129,\n",
       "      'duration': 1015},\n",
       "     {'path': ['mostPopularEntries', 'assets', 1, 'headline'],\n",
       "      'parentType': 'cnbcnewsstory',\n",
       "      'fieldName': 'headline',\n",
       "      'returnType': 'String',\n",
       "      'startOffset': 244753891,\n",
       "      'duration': 579},\n",
       "     {'path': ['mostPopularEntries', 'assets', 1, 'shorterHeadline'],\n",
       "      'parentType': 'cnbcnewsstory',\n",
       "      'fieldName': 'shorterHeadline',\n",
       "      'returnType': 'String',\n",
       "      'startOffset': 244756032,\n",
       "      'duration': 565},\n",
       "     {'path': ['mostPopularEntries', 'assets', 1, 'dateLastPublished'],\n",
       "      'parentType': 'cnbcnewsstory',\n",
       "      'fieldName': 'dateLastPublished',\n",
       "      'returnType': 'String',\n",
       "      'startOffset': 244757901,\n",
       "      'duration': 498},\n",
       "     {'path': ['mostPopularEntries', 'assets', 1, 'description'],\n",
       "      'parentType': 'cnbcnewsstory',\n",
       "      'fieldName': 'description',\n",
       "      'returnType': 'String',\n",
       "      'startOffset': 244759531,\n",
       "      'duration': 653},\n",
       "     {'path': ['mostPopularEntries', 'assets', 1, 'pageName'],\n",
       "      'parentType': 'cnbcnewsstory',\n",
       "      'fieldName': 'pageName',\n",
       "      'returnType': 'String',\n",
       "      'startOffset': 244761844,\n",
       "      'duration': 4209},\n",
       "     {'path': ['mostPopularEntries',\n",
       "       'assets',\n",
       "       1,\n",
       "       'relatedTagsFilteredFormatted'],\n",
       "      'parentType': 'cnbcnewsstory',\n",
       "      'fieldName': 'relatedTagsFilteredFormatted',\n",
       "      'returnType': 'String',\n",
       "      'startOffset': 244767763,\n",
       "      'duration': 418689},\n",
       "     {'path': ['mostPopularEntries', 'assets', 1, 'dateFirstPublished'],\n",
       "      'parentType': 'cnbcnewsstory',\n",
       "      'fieldName': 'dateFirstPublished',\n",
       "      'returnType': 'String',\n",
       "      'startOffset': 244805381,\n",
       "      'duration': 657},\n",
       "     {'path': ['mostPopularEntries', 'assets', 1, 'sectionHierarchyFormatted'],\n",
       "      'parentType': 'cnbcnewsstory',\n",
       "      'fieldName': 'sectionHierarchyFormatted',\n",
       "      'returnType': 'String',\n",
       "      'startOffset': 244807525,\n",
       "      'duration': 381558},\n",
       "     {'path': ['mostPopularEntries', 'assets', 1, 'authorFormatted'],\n",
       "      'parentType': 'cnbcnewsstory',\n",
       "      'fieldName': 'authorFormatted',\n",
       "      'returnType': 'String',\n",
       "      'startOffset': 244829205,\n",
       "      'duration': 2938},\n",
       "     {'path': ['mostPopularEntries', 'assets', 1, 'shortDateFirstPublished'],\n",
       "      'parentType': 'cnbcnewsstory',\n",
       "      'fieldName': 'shortDateFirstPublished',\n",
       "      'returnType': 'String',\n",
       "      'startOffset': 244833275,\n",
       "      'duration': 4904},\n",
       "     {'path': ['mostPopularEntries', 'assets', 1, 'shortDateLastPublished'],\n",
       "      'parentType': 'cnbcnewsstory',\n",
       "      'fieldName': 'shortDateLastPublished',\n",
       "      'returnType': 'String',\n",
       "      'startOffset': 244840449,\n",
       "      'duration': 2176},\n",
       "     {'path': ['mostPopularEntries', 'assets', 1, 'url'],\n",
       "      'parentType': 'cnbcnewsstory',\n",
       "      'fieldName': 'url',\n",
       "      'returnType': 'String',\n",
       "      'startOffset': 244843875,\n",
       "      'duration': 1302},\n",
       "     {'path': ['mostPopularEntries', 'assets', 1, 'type'],\n",
       "      'parentType': 'cnbcnewsstory',\n",
       "      'fieldName': 'type',\n",
       "      'returnType': 'String',\n",
       "      'startOffset': 244846310,\n",
       "      'duration': 678},\n",
       "     {'path': ['mostPopularEntries', 'assets', 1, 'premium'],\n",
       "      'parentType': 'cnbcnewsstory',\n",
       "      'fieldName': 'premium',\n",
       "      'returnType': 'Boolean',\n",
       "      'startOffset': 244848202,\n",
       "      'duration': 1150},\n",
       "     {'path': ['mostPopularEntries', 'assets', 1, 'promoImage'],\n",
       "      'parentType': 'cnbcnewsstory',\n",
       "      'fieldName': 'promoImage',\n",
       "      'returnType': 'infographic',\n",
       "      'startOffset': 244852857,\n",
       "      'duration': 1301},\n",
       "     {'path': ['mostPopularEntries', 'assets', 1, 'promoImage', 'id'],\n",
       "      'parentType': 'infographic',\n",
       "      'fieldName': 'id',\n",
       "      'returnType': 'Int',\n",
       "      'startOffset': 244857899,\n",
       "      'duration': 702},\n",
       "     {'path': ['mostPopularEntries', 'assets', 1, 'promoImage', 'url'],\n",
       "      'parentType': 'infographic',\n",
       "      'fieldName': 'url',\n",
       "      'returnType': 'String',\n",
       "      'startOffset': 244859617,\n",
       "      'duration': 938},\n",
       "     {'path': ['mostPopularEntries', 'assets', 1, 'featuredMedia'],\n",
       "      'parentType': 'cnbcnewsstory',\n",
       "      'fieldName': 'featuredMedia',\n",
       "      'returnType': 'featuredMedia',\n",
       "      'startOffset': 244863488,\n",
       "      'duration': 328161},\n",
       "     {'path': ['mostPopularEntries', 'assets', 1, 'section'],\n",
       "      'parentType': 'cnbcnewsstory',\n",
       "      'fieldName': 'section',\n",
       "      'returnType': 'franchise',\n",
       "      'startOffset': 244879149,\n",
       "      'duration': 314892},\n",
       "     {'path': ['mostPopularEntries', 'assets', 2, 'id'],\n",
       "      'parentType': 'cnbcnewsstory',\n",
       "      'fieldName': 'id',\n",
       "      'returnType': 'Int',\n",
       "      'startOffset': 244959651,\n",
       "      'duration': 594},\n",
       "     {'path': ['mostPopularEntries', 'assets', 2, 'headline'],\n",
       "      'parentType': 'cnbcnewsstory',\n",
       "      'fieldName': 'headline',\n",
       "      'returnType': 'String',\n",
       "      'startOffset': 244961276,\n",
       "      'duration': 1282},\n",
       "     {'path': ['mostPopularEntries', 'assets', 2, 'shorterHeadline'],\n",
       "      'parentType': 'cnbcnewsstory',\n",
       "      'fieldName': 'shorterHeadline',\n",
       "      'returnType': 'String',\n",
       "      'startOffset': 244963336,\n",
       "      'duration': 535},\n",
       "     {'path': ['mostPopularEntries', 'assets', 2, 'dateLastPublished'],\n",
       "      'parentType': 'cnbcnewsstory',\n",
       "      'fieldName': 'dateLastPublished',\n",
       "      'returnType': 'String',\n",
       "      'startOffset': 244964794,\n",
       "      'duration': 512},\n",
       "     {'path': ['mostPopularEntries', 'assets', 2, 'description'],\n",
       "      'parentType': 'cnbcnewsstory',\n",
       "      'fieldName': 'description',\n",
       "      'returnType': 'String',\n",
       "      'startOffset': 244966247,\n",
       "      'duration': 746},\n",
       "     {'path': ['mostPopularEntries', 'assets', 2, 'pageName'],\n",
       "      'parentType': 'cnbcnewsstory',\n",
       "      'fieldName': 'pageName',\n",
       "      'returnType': 'String',\n",
       "      'startOffset': 244967899,\n",
       "      'duration': 2670},\n",
       "     {'path': ['mostPopularEntries',\n",
       "       'assets',\n",
       "       2,\n",
       "       'relatedTagsFilteredFormatted'],\n",
       "      'parentType': 'cnbcnewsstory',\n",
       "      'fieldName': 'relatedTagsFilteredFormatted',\n",
       "      'returnType': 'String',\n",
       "      'startOffset': 244971572,\n",
       "      'duration': 248995},\n",
       "     {'path': ['mostPopularEntries', 'assets', 2, 'dateFirstPublished'],\n",
       "      'parentType': 'cnbcnewsstory',\n",
       "      'fieldName': 'dateFirstPublished',\n",
       "      'returnType': 'String',\n",
       "      'startOffset': 244998111,\n",
       "      'duration': 693},\n",
       "     {'path': ['mostPopularEntries', 'assets', 2, 'sectionHierarchyFormatted'],\n",
       "      'parentType': 'cnbcnewsstory',\n",
       "      'fieldName': 'sectionHierarchyFormatted',\n",
       "      'returnType': 'String',\n",
       "      'startOffset': 244999694,\n",
       "      'duration': 223276},\n",
       "     {'path': ['mostPopularEntries', 'assets', 2, 'authorFormatted'],\n",
       "      'parentType': 'cnbcnewsstory',\n",
       "      'fieldName': 'authorFormatted',\n",
       "      'returnType': 'String',\n",
       "      'startOffset': 245021844,\n",
       "      'duration': 2313},\n",
       "     {'path': ['mostPopularEntries', 'assets', 2, 'shortDateFirstPublished'],\n",
       "      'parentType': 'cnbcnewsstory',\n",
       "      'fieldName': 'shortDateFirstPublished',\n",
       "      'returnType': 'String',\n",
       "      'startOffset': 245024955,\n",
       "      'duration': 4675},\n",
       "     {'path': ['mostPopularEntries', 'assets', 2, 'shortDateLastPublished'],\n",
       "      'parentType': 'cnbcnewsstory',\n",
       "      'fieldName': 'shortDateLastPublished',\n",
       "      'returnType': 'String',\n",
       "      'startOffset': 245031184,\n",
       "      'duration': 1920},\n",
       "     {'path': ['mostPopularEntries', 'assets', 2, 'url'],\n",
       "      'parentType': 'cnbcnewsstory',\n",
       "      'fieldName': 'url',\n",
       "      'returnType': 'String',\n",
       "      'startOffset': 245033877,\n",
       "      'duration': 1134},\n",
       "     {'path': ['mostPopularEntries', 'assets', 2, 'type'],\n",
       "      'parentType': 'cnbcnewsstory',\n",
       "      'fieldName': 'type',\n",
       "      'returnType': 'String',\n",
       "      'startOffset': 245035861,\n",
       "      'duration': 452},\n",
       "     {'path': ['mostPopularEntries', 'assets', 2, 'premium'],\n",
       "      'parentType': 'cnbcnewsstory',\n",
       "      'fieldName': 'premium',\n",
       "      'returnType': 'Boolean',\n",
       "      'startOffset': 245037039,\n",
       "      'duration': 794},\n",
       "     {'path': ['mostPopularEntries', 'assets', 2, 'promoImage'],\n",
       "      'parentType': 'cnbcnewsstory',\n",
       "      'fieldName': 'promoImage',\n",
       "      'returnType': 'infographic',\n",
       "      'startOffset': 245038754,\n",
       "      'duration': 2170},\n",
       "     {'path': ['mostPopularEntries', 'assets', 2, 'promoImage', 'id'],\n",
       "      'parentType': 'infographic',\n",
       "      'fieldName': 'id',\n",
       "      'returnType': 'Int',\n",
       "      'startOffset': 245043710,\n",
       "      'duration': 635},\n",
       "     {'path': ['mostPopularEntries', 'assets', 2, 'promoImage', 'url'],\n",
       "      'parentType': 'infographic',\n",
       "      'fieldName': 'url',\n",
       "      'returnType': 'String',\n",
       "      'startOffset': 245045413,\n",
       "      'duration': 1177},\n",
       "     {'path': ['mostPopularEntries', 'assets', 2, 'featuredMedia'],\n",
       "      'parentType': 'cnbcnewsstory',\n",
       "      'fieldName': 'featuredMedia',\n",
       "      'returnType': 'featuredMedia',\n",
       "      'startOffset': 245048064,\n",
       "      'duration': 177168},\n",
       "     {'path': ['mostPopularEntries', 'assets', 2, 'section'],\n",
       "      'parentType': 'cnbcnewsstory',\n",
       "      'fieldName': 'section',\n",
       "      'returnType': 'franchise',\n",
       "      'startOffset': 245061238,\n",
       "      'duration': 178827},\n",
       "     {'path': ['mostPopularEntries', 'assets', 0, 'section', 'id'],\n",
       "      'parentType': 'franchise',\n",
       "      'fieldName': 'id',\n",
       "      'returnType': 'Int',\n",
       "      'startOffset': 245158480,\n",
       "      'duration': 1116},\n",
       "     {'path': ['mostPopularEntries',\n",
       "       'assets',\n",
       "       0,\n",
       "       'section',\n",
       "       'shortestHeadline'],\n",
       "      'parentType': 'franchise',\n",
       "      'fieldName': 'shortestHeadline',\n",
       "      'returnType': 'String',\n",
       "      'startOffset': 245161126,\n",
       "      'duration': 566},\n",
       "     {'path': ['mostPopularEntries', 'assets', 0, 'section', 'tagName'],\n",
       "      'parentType': 'franchise',\n",
       "      'fieldName': 'tagName',\n",
       "      'returnType': 'String',\n",
       "      'startOffset': 245162896,\n",
       "      'duration': 615},\n",
       "     {'path': ['mostPopularEntries', 'assets', 0, 'section', 'url'],\n",
       "      'parentType': 'franchise',\n",
       "      'fieldName': 'url',\n",
       "      'returnType': 'String',\n",
       "      'startOffset': 245165489,\n",
       "      'duration': 1099},\n",
       "     {'path': ['mostPopularEntries', 'assets', 0, 'section', 'premium'],\n",
       "      'parentType': 'franchise',\n",
       "      'fieldName': 'premium',\n",
       "      'returnType': 'Boolean',\n",
       "      'startOffset': 245168208,\n",
       "      'duration': 850},\n",
       "     {'path': ['mostPopularEntries', 'assets', 1, 'section', 'id'],\n",
       "      'parentType': 'franchise',\n",
       "      'fieldName': 'id',\n",
       "      'returnType': 'Int',\n",
       "      'startOffset': 245198581,\n",
       "      'duration': 546},\n",
       "     {'path': ['mostPopularEntries',\n",
       "       'assets',\n",
       "       1,\n",
       "       'section',\n",
       "       'shortestHeadline'],\n",
       "      'parentType': 'franchise',\n",
       "      'fieldName': 'shortestHeadline',\n",
       "      'returnType': 'String',\n",
       "      'startOffset': 245200107,\n",
       "      'duration': 491},\n",
       "     {'path': ['mostPopularEntries', 'assets', 1, 'section', 'tagName'],\n",
       "      'parentType': 'franchise',\n",
       "      'fieldName': 'tagName',\n",
       "      'returnType': 'String',\n",
       "      'startOffset': 245201345,\n",
       "      'duration': 468},\n",
       "     {'path': ['mostPopularEntries', 'assets', 1, 'section', 'url'],\n",
       "      'parentType': 'franchise',\n",
       "      'fieldName': 'url',\n",
       "      'returnType': 'String',\n",
       "      'startOffset': 245202762,\n",
       "      'duration': 1132},\n",
       "     {'path': ['mostPopularEntries', 'assets', 1, 'section', 'premium'],\n",
       "      'parentType': 'franchise',\n",
       "      'fieldName': 'premium',\n",
       "      'returnType': 'Boolean',\n",
       "      'startOffset': 245204604,\n",
       "      'duration': 620},\n",
       "     {'path': ['mostPopularEntries', 'assets', 2, 'featuredMedia', 'url'],\n",
       "      'parentType': 'image',\n",
       "      'fieldName': 'url',\n",
       "      'returnType': 'String',\n",
       "      'startOffset': 245232441,\n",
       "      'duration': 2457},\n",
       "     {'path': ['mostPopularEntries', 'assets', 2, 'featuredMedia', 'type'],\n",
       "      'parentType': 'image',\n",
       "      'fieldName': 'type',\n",
       "      'returnType': 'String',\n",
       "      'startOffset': 245236607,\n",
       "      'duration': 1547},\n",
       "     {'path': ['mostPopularEntries', 'assets', 2, 'section', 'id'],\n",
       "      'parentType': 'franchise',\n",
       "      'fieldName': 'id',\n",
       "      'returnType': 'Int',\n",
       "      'startOffset': 245243972,\n",
       "      'duration': 875},\n",
       "     {'path': ['mostPopularEntries',\n",
       "       'assets',\n",
       "       2,\n",
       "       'section',\n",
       "       'shortestHeadline'],\n",
       "      'parentType': 'franchise',\n",
       "      'fieldName': 'shortestHeadline',\n",
       "      'returnType': 'String',\n",
       "      'startOffset': 245245730,\n",
       "      'duration': 490},\n",
       "     {'path': ['mostPopularEntries', 'assets', 2, 'section', 'tagName'],\n",
       "      'parentType': 'franchise',\n",
       "      'fieldName': 'tagName',\n",
       "      'returnType': 'String',\n",
       "      'startOffset': 245246899,\n",
       "      'duration': 534},\n",
       "     {'path': ['mostPopularEntries', 'assets', 2, 'section', 'url'],\n",
       "      'parentType': 'franchise',\n",
       "      'fieldName': 'url',\n",
       "      'returnType': 'String',\n",
       "      'startOffset': 245248418,\n",
       "      'duration': 793},\n",
       "     {'path': ['mostPopularEntries', 'assets', 2, 'section', 'premium'],\n",
       "      'parentType': 'franchise',\n",
       "      'fieldName': 'premium',\n",
       "      'returnType': 'Boolean',\n",
       "      'startOffset': 245249915,\n",
       "      'duration': 561}]}}}}"
      ]
     },
     "execution_count": 70,
     "metadata": {},
     "output_type": "execute_result"
    }
   ],
   "source": [
    "json_resp = cnbc.list_trending_news(count='3', api_key=API_KEY)\n",
    "json_resp"
   ]
  },
  {
   "cell_type": "markdown",
   "id": "written-experiment",
   "metadata": {},
   "source": [
    "Как видим, формат тут более удобен, нежели в первом случае. Но много инфы, которая нам не нужна совсем"
   ]
  },
  {
   "cell_type": "markdown",
   "id": "liberal-tissue",
   "metadata": {},
   "source": [
    "Есть очень классная фича - мы можем посмотреть новости, связанные с определенной компанией"
   ]
  },
  {
   "cell_type": "code",
   "execution_count": 76,
   "id": "featured-morning",
   "metadata": {},
   "outputs": [],
   "source": [
    "json_resp = cnbc.list_symbol_news(symbol='AAPL',api_key=API_KEY)"
   ]
  },
  {
   "cell_type": "code",
   "execution_count": 82,
   "id": "hungarian-conditions",
   "metadata": {},
   "outputs": [
    {
     "data": {
      "text/plain": [
       "{'__typename': 'cnbcnewsstory',\n",
       " 'headline': 'CNBC Stock World Cup 2022: A recap of winners and losers so far',\n",
       " 'pageName': '107144471|2022/11/03/how-the-cnbc-stock-world-cup-2022-works',\n",
       " 'description': 'If you invest today, which of the two companies going head-to-head will give you a greater total return over the next 12 months? We ask experts.',\n",
       " 'dateFirstPublished': '2022-11-03T23:30:01+0000',\n",
       " 'relatedTagsFilteredFormatted': 'investment strategy|lvmh moet hennessy louis vuitton se|bhp group ltd|naspers ltd|naspers ltd|netflix inc|asia news|apple inc|tencent holdings ltd|lvmh moet hennessy louis vuitton se|sports',\n",
       " 'sectionHierarchyFormatted': 'cnbc tv|asia television|street signs asia',\n",
       " 'authorFormatted': 'NA',\n",
       " 'shortDateFirstPublished': '11/03/2022',\n",
       " 'shortDateLastPublished': '11/9/2022',\n",
       " 'shorterHeadline': 'CNBC Stock World Cup 2022: A recap of winners and losers so far',\n",
       " 'id': 107144471,\n",
       " 'type': 'cnbcnewsstory',\n",
       " 'title': 'CNBC Stock World Cup 2022: A recap of winners and losers so far',\n",
       " 'url': 'https://www.cnbc.com/2022/11/03/how-the-cnbc-stock-world-cup-2022-works.html',\n",
       " 'dateLastPublished': '2022-11-09T05:13:07+0000',\n",
       " 'premium': False,\n",
       " 'promoImage': {'__typename': 'infographic',\n",
       "  'id': 107144525,\n",
       "  'url': 'https://image.cnbcfm.com/api/v1/image/107144525-1667370412852-Generic_CNBC_STOCK_WORLD_CUP.jpg?v=1667810295'},\n",
       " 'section': {'__typename': 'franchise',\n",
       "  'id': 101495499,\n",
       "  'shortestHeadline': 'Street Signs Asia',\n",
       "  'tagName': 'Street Signs Asia',\n",
       "  'url': 'https://www.cnbc.com/street-signs-asia/',\n",
       "  'premium': False},\n",
       " 'tickerSymbols': [{'__typename': 'security', 'symbol': 'LVMHF'},\n",
       "  {'__typename': 'security', 'symbol': 'BHP-AU'},\n",
       "  {'__typename': 'security', 'symbol': 'NPSNY'},\n",
       "  {'__typename': 'security', 'symbol': 'NPN-ZA'},\n",
       "  {'__typename': 'security', 'symbol': 'NFLX'},\n",
       "  {'__typename': 'security', 'symbol': 'AAPL'},\n",
       "  {'__typename': 'security', 'symbol': '700-HK'},\n",
       "  {'__typename': 'security', 'symbol': 'MC-FR'}]}"
      ]
     },
     "execution_count": 82,
     "metadata": {},
     "output_type": "execute_result"
    }
   ],
   "source": [
    "json_resp['data']['symbolEntries']['results'][0]"
   ]
  },
  {
   "cell_type": "markdown",
   "id": "other-reliance",
   "metadata": {},
   "source": [
    "Далее можем использовать информацию отсюда, при необходиомости можно перейти по URL и спарсить страницу, аналогично тому, как мы делали ранее"
   ]
  },
  {
   "cell_type": "markdown",
   "id": "addressed-auction",
   "metadata": {},
   "source": [
    "Так же можно получать разную информацию по рынку"
   ]
  },
  {
   "cell_type": "code",
   "execution_count": 83,
   "id": "several-package",
   "metadata": {},
   "outputs": [],
   "source": [
    "json_resp = cnbc.translate(symbol='TSLA', api_key=API_KEY)"
   ]
  },
  {
   "cell_type": "code",
   "execution_count": 85,
   "id": "effective-welding",
   "metadata": {},
   "outputs": [],
   "source": [
    "issueId = json_resp['issueId']"
   ]
  },
  {
   "cell_type": "code",
   "execution_count": 86,
   "id": "played-medicaid",
   "metadata": {},
   "outputs": [],
   "source": [
    "json_resp = cnbc.get_chart(issue_id=issueId,interval='1d',api_key=API_KEY)"
   ]
  },
  {
   "cell_type": "code",
   "execution_count": 89,
   "id": "instant-compact",
   "metadata": {},
   "outputs": [
    {
     "data": {
      "text/plain": [
       "dict_keys(['Dates', 'NormalizeDate', 'NormalizeValues', 'Status', 'StatusString', 'MetaData', 'TimeService', 'Elements'])"
      ]
     },
     "execution_count": 89,
     "metadata": {},
     "output_type": "execute_result"
    }
   ],
   "source": [
    "json_resp.keys()"
   ]
  },
  {
   "cell_type": "markdown",
   "id": "exclusive-importance",
   "metadata": {},
   "source": [
    "Здесь мы получаем много информации о цене, минимумах, максимумах, начало, открытие, и т.д, которую можно использовать"
   ]
  },
  {
   "cell_type": "code",
   "execution_count": 70,
   "id": "found-winter",
   "metadata": {},
   "outputs": [],
   "source": [
    "import matplotlib.pyplot as plt"
   ]
  },
  {
   "cell_type": "code",
   "execution_count": 124,
   "id": "forbidden-christian",
   "metadata": {},
   "outputs": [
    {
     "data": {
      "text/plain": [
       "<matplotlib.legend.Legend at 0x2e9d5fbe1c0>"
      ]
     },
     "execution_count": 124,
     "metadata": {},
     "output_type": "execute_result"
    },
    {
     "data": {
      "image/png": "[encoded data removed]",
      "text/plain": [
       "<Figure size 1440x720 with 1 Axes>"
      ]
     },
     "metadata": {
      "needs_background": "light"
     },
     "output_type": "display_data"
    }
   ],
   "source": [
    "plt.figure(figsize=(20, 10))\n",
    "plt.title('TSLA prices')\n",
    "plt.xticks(rotation=45)\n",
    "for i in range(len(json_resp['Elements'][0]['ComponentSeries'])):\n",
    "    plt.plot(json_resp['Dates'], json_resp['Elements'][0]['ComponentSeries'][i]['Values'],\n",
    "             label=json_resp['Elements'][0]['ComponentSeries'][i]['Type'])\n",
    "plt.legend()"
   ]
  },
  {
   "cell_type": "markdown",
   "id": "occasional-absence",
   "metadata": {},
   "source": [
    "Можно получить информацию по изменениям в целои"
   ]
  },
  {
   "cell_type": "code",
   "execution_count": 127,
   "id": "competitive-klein",
   "metadata": {},
   "outputs": [],
   "source": [
    "json_resp = cnbc.list_indices(api_key=API_KEY)"
   ]
  },
  {
   "cell_type": "code",
   "execution_count": 129,
   "id": "federal-daisy",
   "metadata": {},
   "outputs": [
    {
     "data": {
      "text/plain": [
       "{'symbol': '.N225',\n",
       " 'yrlodate': '03/09/22',\n",
       " 'code': '0',\n",
       " 'curmktstatus': 'REG_MKT',\n",
       " 'source': '',\n",
       " 'type': 'INDEX',\n",
       " 'EventData': {'yrhiind': 'N', 'yrloind': 'N', 'is_halted': 'N'},\n",
       " 'high': '27,926.52',\n",
       " 'low': '27,688.86',\n",
       " 'provider': 'CNBC Quote Cache',\n",
       " 'streamable': '1',\n",
       " 'changetype': 'DOWN',\n",
       " 'previous_day_closing': '27,872.11',\n",
       " 'countryCode': 'JP',\n",
       " 'altName': 'NIKKEI 225 INDEX',\n",
       " 'yrhiprice': '29,960.93',\n",
       " 'altSymbol': '.N225',\n",
       " 'change_pct': '-0.56%',\n",
       " 'last': '27,716.43',\n",
       " 'yrloprice': '24,681.74',\n",
       " 'issue_id': '576473',\n",
       " 'change': '-155.68',\n",
       " 'yrhidate': '11/16/21',\n",
       " 'last_timedate': '3:15 PM JST',\n",
       " 'volume': '0',\n",
       " 'realTime': 'false',\n",
       " 'portfolioindicator': 'N',\n",
       " 'name': 'Nikkei 225 Index',\n",
       " 'subType': 'Index',\n",
       " 'exchange': 'Nihon Keizai Shinbun',\n",
       " 'shortName': 'NIKKEI',\n",
       " 'currencyCode': 'JPY',\n",
       " 'open': '27,884.55',\n",
       " 'volume_alt': '0'}"
      ]
     },
     "execution_count": 129,
     "metadata": {},
     "output_type": "execute_result"
    }
   ],
   "source": [
    "json_resp['ITVQuoteResult']['ITVQuote'][0]"
   ]
  },
  {
   "cell_type": "markdown",
   "id": "split-liberty",
   "metadata": {},
   "source": [
    "# Скрипт для самостоятельного сбора новостей для дальнейшего обучения эмбеддингов"
   ]
  },
  {
   "cell_type": "markdown",
   "id": "false-drove",
   "metadata": {},
   "source": [
    "Скрит работает так:\n",
    "\n",
    "Выбираем 2 временных промежутка: промежуток загрузки новостей с сайта(T1) и промежуток сохранения данных в файл(T2).\n",
    "\n",
    "Каждые T1 секунд отправляет запрос на сайт и проверяется наличие новых новостей, при наличии они загружаются в локальный массив. После T2 секунд мы загружаем все новые новости в файл."
   ]
  },
  {
   "cell_type": "code",
   "execution_count": 11,
   "id": "recent-microwave",
   "metadata": {},
   "outputs": [],
   "source": [
    "import pandas as pd\n",
    "import time\n",
    "import ycnbc"
   ]
  },
  {
   "cell_type": "code",
   "execution_count": 28,
   "id": "written-measure",
   "metadata": {},
   "outputs": [],
   "source": [
    "time.sleep(5)"
   ]
  },
  {
   "cell_type": "code",
   "execution_count": 9,
   "id": "liberal-rental",
   "metadata": {},
   "outputs": [],
   "source": [
    "DATA_PATH = \"C:\\\\Users\\\\User\\\\Finance Project\\\\datasets\\\\new_data.csv\""
   ]
  },
  {
   "cell_type": "code",
   "execution_count": 29,
   "id": "blind-french",
   "metadata": {},
   "outputs": [],
   "source": [
    "T1 = 60\n",
    "T2 = 60 * 60"
   ]
  },
  {
   "cell_type": "code",
   "execution_count": 12,
   "id": "beginning-hanging",
   "metadata": {},
   "outputs": [],
   "source": [
    "dataset = pd.read_csv(DATA_PATH)\n",
    "\n",
    "data = ycnbc.News()\n",
    "\n",
    "while(True)\n",
    "    dataset = pd.read_csv(DATA_PATH)\n",
    "    for i in range(int(T2 / T1)):\n",
    "        latest_ = data.latest() # return DataFrame\n",
    "        if dataset['Link'].values[-1] != latest_['Link'].values[-1]:\n",
    "            dataset.loc[len(dataset.index)] = latest_.values[-1]\n",
    "    dataset.to_csv(DATA_PATH)"
   ]
  },
  {
   "cell_type": "markdown",
   "id": "lasting-wages",
   "metadata": {},
   "source": [
    "# Более чщательная подготовка текстов"
   ]
  },
  {
   "cell_type": "markdown",
   "id": "scheduled-japanese",
   "metadata": {},
   "source": [
    "На данном этапе мы имеем датасет с новостями. Теперь нам необходимо провести работу с текстом и получить лист слов новостей для дальнейшей работы модели.\n",
    "\n",
    "Работа с текстом будет состоят из следующих этапов: \n",
    "\n",
    "1) Сначала функция будет удалять все символы кроме букв верхнего и нижнего регистра;\n",
    "\n",
    "\n",
    "2) Затем преобразовывает слова к нижнему регистру;\n",
    "\n",
    "\n",
    "3) После чего удаляет стоп слова из текста, т.к. они не несут никакой информации о содержании;\n",
    "\n",
    "\n",
    "4) Лемматизация, процесс приведения словоформы к лемме — её нормальной (словарной) форме.\n",
    "\n",
    "(источник - https://habr.com/ru/company/ods/blog/329410/)"
   ]
  },
  {
   "cell_type": "code",
   "execution_count": 36,
   "id": "fuzzy-keeping",
   "metadata": {},
   "outputs": [
    {
     "name": "stderr",
     "output_type": "stream",
     "text": [
      "[nltk_data] Downloading package stopwords to\n",
      "[nltk_data]     C:\\Users\\User\\AppData\\Roaming\\nltk_data...\n",
      "[nltk_data]   Unzipping corpora\\stopwords.zip.\n"
     ]
    },
    {
     "data": {
      "text/plain": [
       "True"
      ]
     },
     "execution_count": 36,
     "metadata": {},
     "output_type": "execute_result"
    }
   ],
   "source": [
    "from sklearn.metrics import mean_squared_error\n",
    "import re\n",
    "import nltk\n",
    "from nltk.corpus import stopwords\n",
    "import pymorphy2\n",
    "nltk.download('stopwords')"
   ]
  },
  {
   "cell_type": "code",
   "execution_count": 37,
   "id": "together-radar",
   "metadata": {},
   "outputs": [],
   "source": [
    "\n",
    "morph = pymorphy2.MorphAnalyzer()\n",
    "\n",
    "stops = set(stopwords.words(\"english\")) | set(stopwords.words(\"russian\"))\n",
    "def review_to_wordlist(review):\n",
    "    #1)\n",
    "    review_text = re.sub(\"[^а-яА-Яa-zA-Z]\",\" \", review)\n",
    "    #2)\n",
    "    words = review_text.lower().split()\n",
    "    #3)\n",
    "    words = [w for w in words if not w in stops]\n",
    "    #4)\n",
    "    words = [morph.parse(w)[0].normal_form for w in words ]\n",
    "    return(words)"
   ]
  },
  {
   "cell_type": "markdown",
   "id": "oriental-reform",
   "metadata": {},
   "source": [
    "Посмотрим как это работает"
   ]
  },
  {
   "cell_type": "code",
   "execution_count": 47,
   "id": "announced-frontier",
   "metadata": {},
   "outputs": [
    {
     "name": "stdout",
     "output_type": "stream",
     "text": [
      "['monday', 'haircut', 'p', 'largely', 'attributed', 'unrest', 'china', 'several', 'traders', 'brought', 'fed', 'chair', 'jay', 'powell', 'wednesday', 'speech', 'brookings', 'institution', 'subject', 'economic', 'outlook', 'labor', 'market', 'fear', 'powell', 'use', 'speech', 'smack', 'modest', 'market', 'rally', 'since', 'oct', 'bottom', 'largely', 'based', 'belief', 'pace', 'rate', 'hikes', 'begin', 'slow', 'december', 'help', 'midday', 'yesterday', 'st', 'louis', 'fed', 'president', 'james', 'bullard', 'said', 'markets', 'underpricing', 'little', 'bit', 'risk', 'fomc', 'aggressive', 'rather', 'less', 'aggressive', 'order', 'contain', 'substantial', 'inflation', 'u', 'bullard', 'reiterated', 'higher', 'longer', 'theme', 'noting', 'think', 'stay', 'goes', 'traders', 'optimistic', 'ending', 'rate', 'hikes', 'time', 'soon', 'going', 'stay', 'higher', 'much', 'longer', 'think', 'comments', 'along', 'hawkish', 'sounding', 'statements', 'fed', 'vice', 'chair', 'lael', 'brainard', 'everyone', 'convinced', 'powell', 'pull', 'another', 'jackson', 'hole', 'wednesday', 'setting', 'stage', 'hawkish', 'performance', 'chairman', 'powell', 'wednesday', 'despite', 'step', 'pace', 'rate', 'hikes', 'mike', 'rourke', 'jones', 'trading', 'said', 'note', 'clients', 'last', 'night', 'powell', 'also', 'likely', 'unhappy', 'decline', 'bond', 'yields', 'year', 'treasury', 'yield', 'today', 'roughly', 'three', 'weeks', 'ago', 'also', 'fed', 'standpoint', 'perverse', 'effect', 'easing', 'financial', 'conditions', 'e', 'offsetting', 'trying', 'think', 'focus', 'try', 'keep', 'year', 'yield', 'dropping', 'much', 'try', 'keep', 'financial', 'conditions', 'relatively', 'tight', 'finish', 'job', 'without', 'deal', 'economy', 'starts', 'take', 'former', 'fed', 'vice', 'chair', 'roger', 'ferguson', 'said', 'cnbc', 'morning', 'indeed', 'mortgage', 'rates', 'already', 'lower', 'year', 'fixed', 'rate', 'mortgage', 'gone', 'today', 'november', 'th', 'according', 'bankrate', 'fed', 'wants', 'tighter', 'financial', 'conditions', 'want', 'stocks', 'rally', 'yields', 'decline', 'mortgage', 'rates', 'drop', 'persistent', 'signs', 'inflation', 'cooling', 'little', 'wonder', 'bears', 'think', 'ceiling', 'market', 'rally', 'assuming', 'earnings', 'flat', 'next', 'year', 'market', 'remains', 'historic', 'average', 'multiple', 'times', 'forward', 'earnings', 'value', 'p', 'currently', 'points', 'lower', 'p', 'sits', 'today', 'issue', 'many', 'times', 'powell', 'going', 'reiterate', 'theme', 'gets', 'old']\n"
     ]
    }
   ],
   "source": [
    "print(review_to_wordlist(clear_text))"
   ]
  },
  {
   "cell_type": "markdown",
   "id": "attempted-maple",
   "metadata": {},
   "source": [
    "Это можно попробовать для обучения своей модели"
   ]
  },
  {
   "cell_type": "markdown",
   "id": "outstanding-orlando",
   "metadata": {},
   "source": [
    "# Модель №1 Roberta"
   ]
  },
  {
   "cell_type": "markdown",
   "id": "pursuant-variety",
   "metadata": {},
   "source": [
    "Твиттерская модель для sentiment analysis. Довольно большая, но качество на уровне"
   ]
  },
  {
   "cell_type": "code",
   "execution_count": 9,
   "id": "handmade-cheat",
   "metadata": {},
   "outputs": [],
   "source": [
    "from transformers import AutoModelForSequenceClassification\n",
    "from transformers import TFAutoModelForSequenceClassification\n",
    "from transformers import AutoTokenizer\n",
    "import numpy as np\n",
    "from scipy.special import softmax\n",
    "import csv\n",
    "import urllib.request\n",
    "\n",
    "# Preprocess text (username and link placeholders)\n",
    "def preprocess(text):\n",
    "    new_text = []\n",
    " \n",
    " \n",
    "    for t in text.split(\" \"):\n",
    "        t = '@user' if t.startswith('@') and len(t) > 1 else t\n",
    "        t = 'http' if t.startswith('http') else t\n",
    "        new_text.append(t)\n",
    "    return \" \".join(new_text)\n",
    "\n",
    "# Tasks:\n",
    "# emoji, emotion, hate, irony, offensive, sentiment\n",
    "# stance/abortion, stance/atheism, stance/climate, stance/feminist, stance/hillary\n",
    "\n",
    "task='sentiment'\n",
    "MODEL = f\"cardiffnlp/twitter-roberta-base-{task}\"\n",
    "\n",
    "tokenizer = AutoTokenizer.from_pretrained(MODEL)\n",
    "\n",
    "# download label mapping\n",
    "labels=[]\n",
    "mapping_link = f\"https://raw.githubusercontent.com/cardiffnlp/tweeteval/main/datasets/{task}/mapping.txt\"\n",
    "with urllib.request.urlopen(mapping_link) as f:\n",
    "    html = f.read().decode('utf-8').split(\"\\n\")\n",
    "    csvreader = csv.reader(html, delimiter='\\t')\n",
    "labels = [row[1] for row in csvreader if len(row) > 1]"
   ]
  },
  {
   "cell_type": "code",
   "execution_count": 10,
   "id": "balanced-france",
   "metadata": {},
   "outputs": [],
   "source": [
    "model = AutoModelForSequenceClassification.from_pretrained(MODEL)\n",
    "model.save_pretrained(MODEL)"
   ]
  },
  {
   "cell_type": "code",
   "execution_count": 18,
   "id": "unnecessary-tribute",
   "metadata": {},
   "outputs": [
    {
     "name": "stdout",
     "output_type": "stream",
     "text": [
      "1) negative 0.4931\n",
      "2) neutral 0.487\n",
      "3) positive 0.0199\n"
     ]
    }
   ],
   "source": [
    "text = clear_text\n",
    "text = preprocess(text)\n",
    "encoded_input = tokenizer(text, return_tensors='pt')\n",
    "output = model(**encoded_input)\n",
    "scores = output[0][0].detach().numpy()\n",
    "scores = softmax(scores)\n",
    "\n",
    "# # TF\n",
    "# model = TFAutoModelForSequenceClassification.from_pretrained(MODEL)\n",
    "# model.save_pretrained(MODEL)\n",
    "\n",
    "# text = \"Good night 😊\"\n",
    "# encoded_input = tokenizer(text, return_tensors='tf')\n",
    "# output = model(encoded_input)\n",
    "# scores = output[0][0].numpy()\n",
    "# scores = softmax(scores)\n",
    "\n",
    "ranking = np.argsort(scores)\n",
    "ranking = ranking[::-1]\n",
    "for i in range(scores.shape[0]):\n",
    "    l = labels[ranking[i]]\n",
    "    s = scores[ranking[i]]\n",
    "    print(f\"{i+1}) {l} {np.round(float(s), 4)}\")"
   ]
  },
  {
   "cell_type": "markdown",
   "id": "nuclear-default",
   "metadata": {},
   "source": [
    "В целом данную новость можно скорее трактовать как негативную, что подтверждается моделью.\n",
    "\n",
    "Для проверки найдем еще какую-нибудь новость, уже связанную с санкциями"
   ]
  },
  {
   "cell_type": "code",
   "execution_count": 20,
   "id": "alike-theta",
   "metadata": {},
   "outputs": [],
   "source": [
    "sanction_news = '''Canada Imposes Additional Sanctions on Belarusian Regime: 22 Individuals and 16 Entities Targeted\n",
    "On November 22, 2022, Canada announced further amendments to the Special Economic Measures (Belarus) Regulations (the “Regulations”) in response to the Belarusian regime’s role in “facilitating and enabling Russia’s illegal invasion and attempted annexation of Ukrainian territory”. These amendments list an additional twenty-two individuals and sixteen entities under Schedule 1 of the Regulations and took effect on November 17, 2022.\n",
    "\n",
    "There are now over 150 parties listed under Schedule 1 of the Regulations. Among the newly listed parties are senior Belarusian officials and companies complicit in “the stationing and transport of Russian military personnel and equipment involved in the invasion of Ukraine”.\n",
    "\n",
    "Generally speaking, listing under Schedule 1 of the Regulations imposes a dealings prohibition, effectively an asset freeze, against the listed person. The Regulations prohibit any person in Canada or any Canadian outside Canada from:\n",
    "\n",
    "dealing in property, wherever situated, that is owned, held or controlled by listed persons or a person acting on behalf of a listed person in Schedule 1;\n",
    "entering into or facilitating any transaction related to such a dealing;\n",
    "providing any financial or related services in respect of such a dealing;\n",
    "making available any goods, wherever situated, to a listed person in Schedule 1 or a person acting on behalf of a listed person; and\n",
    "making available any property or providing any financial or other related services to or for the benefit of a listed person in Schedule 1.\n",
    "The Government of Canada has now issued five sets of amending regulations since the beginning of this year in response to the Belarusian regime’s role in “enabling the Russian regime’s human rights violations in [Ukraine] and for contributing to the pain and suffering of millions around the globe that has resulted from President Putin’s weaponization of food and energy”.\n",
    "\n",
    "Businesses should continually assess their sanctions compliance in this shifting legal landscape. Regulations enacted under the Special Economic Measures Act obligate persons in Canada and Canadian citizens to disclose certain property held by Schedule 1 parties and any related transactional information to the RCMP. Additionally, certain entities have a continuing duty to determine and disclose certain property of Schedule 1 parties.\n",
    "\n",
    "An unofficial copy of the legislative amendments to the Special Economic Measures (Belarus) Regulations that came into effect on November 17, 2022 are available on Global Affairs Canada’s website here.'''"
   ]
  },
  {
   "cell_type": "code",
   "execution_count": 21,
   "id": "national-kingdom",
   "metadata": {},
   "outputs": [
    {
     "name": "stdout",
     "output_type": "stream",
     "text": [
      "1) neutral 0.5898\n",
      "2) negative 0.3853\n",
      "3) positive 0.0249\n"
     ]
    }
   ],
   "source": [
    "text = sanction_news\n",
    "text = preprocess(text)\n",
    "encoded_input = tokenizer(text, return_tensors='pt')\n",
    "output = model(**encoded_input)\n",
    "scores = output[0][0].detach().numpy()\n",
    "scores = softmax(scores)\n",
    "\n",
    "ranking = np.argsort(scores)\n",
    "ranking = ranking[::-1]\n",
    "for i in range(scores.shape[0]):\n",
    "    l = labels[ranking[i]]\n",
    "    s = scores[ranking[i]]\n",
    "    print(f\"{i+1}) {l} {np.round(float(s), 4)}\")"
   ]
  },
  {
   "cell_type": "markdown",
   "id": "empirical-paintball",
   "metadata": {},
   "source": [
    "Данная новость отмечена как нейтральная. Хотя в целом большинство новостей про санкции имеют один вид - негативный."
   ]
  },
  {
   "cell_type": "markdown",
   "id": "dressed-marking",
   "metadata": {},
   "source": [
    "Попробуем данную модель в следующей ситуации: \n",
    "\n",
    "Рассматриваем конкретную компанию и новости про рост/падении цены. Посмотрим как на это отреагирует модель"
   ]
  },
  {
   "cell_type": "code",
   "execution_count": 44,
   "id": "freelance-intersection",
   "metadata": {},
   "outputs": [],
   "source": [
    "down_news = '''Hibbett\n",
    " — Shares of Hibbett dropped 11.5% after the company posted a disappointing profit for the third quarter.\n",
    " The sporting goods retailer said higher expenses cut into its profit margins.'''"
   ]
  },
  {
   "cell_type": "code",
   "execution_count": 45,
   "id": "extended-secretary",
   "metadata": {},
   "outputs": [
    {
     "name": "stdout",
     "output_type": "stream",
     "text": [
      "1) negative 0.7872\n",
      "2) neutral 0.1988\n",
      "3) positive 0.014\n"
     ]
    }
   ],
   "source": [
    "text = down_news\n",
    "text = preprocess(text)\n",
    "encoded_input = tokenizer(text, return_tensors='pt')\n",
    "output = model(**encoded_input)\n",
    "scores = output[0][0].detach().numpy()\n",
    "scores = softmax(scores)\n",
    "\n",
    "ranking = np.argsort(scores)\n",
    "ranking = ranking[::-1]\n",
    "for i in range(scores.shape[0]):\n",
    "    l = labels[ranking[i]]\n",
    "    s = scores[ranking[i]]\n",
    "    print(f\"{i+1}) {l} {np.round(float(s), 4)}\")"
   ]
  },
  {
   "cell_type": "code",
   "execution_count": 40,
   "id": "increased-sailing",
   "metadata": {},
   "outputs": [],
   "source": [
    "up_news = '''JD.com\n",
    " — Shares of U.S.-listed Chinese internet companies rose as a group after Chinese health authorities reported an improvement in recent senior vaccination rates. Shares of JD.com were up 6.7%. Pinduoduo\n",
    " and Baidu\n",
    " climbed 5.9% and 5.3%.'''"
   ]
  },
  {
   "cell_type": "code",
   "execution_count": 41,
   "id": "fatal-conducting",
   "metadata": {},
   "outputs": [
    {
     "name": "stdout",
     "output_type": "stream",
     "text": [
      "1) positive 0.7914\n",
      "2) neutral 0.2065\n",
      "3) negative 0.0021\n"
     ]
    }
   ],
   "source": [
    "text = up_news\n",
    "text = preprocess(text)\n",
    "encoded_input = tokenizer(text, return_tensors='pt')\n",
    "output = model(**encoded_input)\n",
    "scores = output[0][0].detach().numpy()\n",
    "scores = softmax(scores)\n",
    "\n",
    "ranking = np.argsort(scores)\n",
    "ranking = ranking[::-1]\n",
    "for i in range(scores.shape[0]):\n",
    "    l = labels[ranking[i]]\n",
    "    s = scores[ranking[i]]\n",
    "    print(f\"{i+1}) {l} {np.round(float(s), 4)}\")"
   ]
  },
  {
   "cell_type": "markdown",
   "id": "loving-departure",
   "metadata": {},
   "source": [
    "В целом мы видим, что в случае сильного акцента в новости модель правильно понимает что делать"
   ]
  },
  {
   "cell_type": "markdown",
   "id": "medieval-cylinder",
   "metadata": {},
   "source": [
    "# Влияние новостей на изменение цены"
   ]
  },
  {
   "cell_type": "markdown",
   "id": "liberal-basic",
   "metadata": {},
   "source": [
    "Для примера рассмотрим AAPL"
   ]
  },
  {
   "cell_type": "code",
   "execution_count": 91,
   "id": "outside-taste",
   "metadata": {},
   "outputs": [],
   "source": [
    "json_resp = cnbc.list_symbol_news(symbol='AAPL',api_key=API_KEY)"
   ]
  },
  {
   "cell_type": "code",
   "execution_count": 101,
   "id": "instructional-joshua",
   "metadata": {},
   "outputs": [
    {
     "data": {
      "text/plain": [
       "{'__typename': 'cnbcnewsstory',\n",
       " 'headline': 'Elon Musk has criticized Apple for years. Apple has mostly ignored him',\n",
       " 'pageName': '107157875|2022/11/30/elon-musk-has-criticized-apple-for-years-apple-has-mostly-ignored-him',\n",
       " 'description': \"The Tesla CEO's furious tweets have highlighted just how much power the mobile juggernaut still has over the world's richest person.\",\n",
       " 'dateFirstPublished': '2022-11-30T13:00:02+0000',\n",
       " 'relatedTagsFilteredFormatted': 'transportation|tim cook|entertainment|technology|autos|computer hardware|social media|apple inc|tesla inc|twitter delisted|elon musk',\n",
       " 'sectionHierarchyFormatted': 'technology',\n",
       " 'authorFormatted': 'NA',\n",
       " 'shortDateFirstPublished': '11/30/2022',\n",
       " 'shortDateLastPublished': '11/30/2022',\n",
       " 'shorterHeadline': 'Elon Musk has criticized Apple for years. Apple has mostly ignored him',\n",
       " 'id': 107157875,\n",
       " 'type': 'cnbcnewsstory',\n",
       " 'title': 'Elon Musk has criticized Apple for years. Apple has mostly ignored him',\n",
       " 'url': 'https://www.cnbc.com/2022/11/30/elon-musk-has-criticized-apple-for-years-apple-has-mostly-ignored-him.html',\n",
       " 'dateLastPublished': '2022-11-30T13:00:02+0000',\n",
       " 'premium': False,\n",
       " 'promoImage': {'__typename': 'infographic',\n",
       "  'id': 107102460,\n",
       "  'url': 'https://image.cnbcfm.com/api/v1/image/107102460-1660225112171-gettyimages-1206292068-aa_10032020_39853.jpeg?v=1669813202'},\n",
       " 'section': {'__typename': 'franchise',\n",
       "  'id': 19854910,\n",
       "  'shortestHeadline': 'Tech',\n",
       "  'tagName': 'Technology',\n",
       "  'url': 'https://www.cnbc.com/technology/',\n",
       "  'premium': False},\n",
       " 'tickerSymbols': [{'__typename': 'security', 'symbol': 'AAPL'},\n",
       "  {'__typename': 'security', 'symbol': 'TSLA'},\n",
       "  {'__typename': 'security', 'symbol': 'TWTR'}]}"
      ]
     },
     "execution_count": 101,
     "metadata": {},
     "output_type": "execute_result"
    }
   ],
   "source": [
    "json_resp['data']['symbolEntries']['results'][1]"
   ]
  },
  {
   "cell_type": "code",
   "execution_count": 102,
   "id": "reliable-cliff",
   "metadata": {},
   "outputs": [
    {
     "data": {
      "text/plain": [
       "'2022-11-30T13:00:02+0000'"
      ]
     },
     "execution_count": 102,
     "metadata": {},
     "output_type": "execute_result"
    }
   ],
   "source": [
    "date = json_resp['data']['symbolEntries']['results'][1]['dateFirstPublished']\n",
    "date"
   ]
  },
  {
   "cell_type": "code",
   "execution_count": 59,
   "id": "armed-recorder",
   "metadata": {},
   "outputs": [
    {
     "data": {
      "text/plain": [
       "\"The Tesla CEO's furious tweets have highlighted just how much power the mobile juggernaut still has over the world's richest person.\""
      ]
     },
     "execution_count": 59,
     "metadata": {},
     "output_type": "execute_result"
    }
   ],
   "source": [
    "desc = json_resp['data']['symbolEntries']['results'][1]['description']\n",
    "desc"
   ]
  },
  {
   "cell_type": "code",
   "execution_count": 62,
   "id": "attempted-situation",
   "metadata": {},
   "outputs": [
    {
     "data": {
      "text/plain": [
       "107157875"
      ]
     },
     "execution_count": 62,
     "metadata": {},
     "output_type": "execute_result"
    }
   ],
   "source": [
    "issude_id = json_resp['data']['symbolEntries']['results'][1]['id']\n",
    "issude_id"
   ]
  },
  {
   "cell_type": "code",
   "execution_count": 60,
   "id": "optical-writer",
   "metadata": {},
   "outputs": [
    {
     "name": "stdout",
     "output_type": "stream",
     "text": [
      "1) positive 0.8294\n",
      "2) neutral 0.1595\n",
      "3) negative 0.0111\n"
     ]
    }
   ],
   "source": [
    "text = desc\n",
    "text = preprocess(text)\n",
    "encoded_input = tokenizer(text, return_tensors='pt')\n",
    "output = model(**encoded_input)\n",
    "scores = output[0][0].detach().numpy()\n",
    "scores = softmax(scores)\n",
    "\n",
    "ranking = np.argsort(scores)\n",
    "ranking = ranking[::-1]\n",
    "for i in range(scores.shape[0]):\n",
    "    l = labels[ranking[i]]\n",
    "    s = scores[ranking[i]]\n",
    "    print(f\"{i+1}) {l} {np.round(float(s), 4)}\")"
   ]
  },
  {
   "cell_type": "code",
   "execution_count": 65,
   "id": "sunset-kentucky",
   "metadata": {},
   "outputs": [],
   "source": [
    "json_resp = cnbc.translate(symbol='AAPL', api_key=API_KEY)"
   ]
  },
  {
   "cell_type": "code",
   "execution_count": 67,
   "id": "unexpected-elder",
   "metadata": {},
   "outputs": [
    {
     "data": {
      "text/plain": [
       "'36276'"
      ]
     },
     "execution_count": 67,
     "metadata": {},
     "output_type": "execute_result"
    }
   ],
   "source": [
    "issueId = json_resp['issueId']\n",
    "issueId"
   ]
  },
  {
   "cell_type": "code",
   "execution_count": 87,
   "id": "wooden-integer",
   "metadata": {},
   "outputs": [],
   "source": [
    "json_resp = cnbc.get_chart(issue_id=issueId,interval='w',api_key=API_KEY)"
   ]
  },
  {
   "cell_type": "code",
   "execution_count": 88,
   "id": "administrative-freedom",
   "metadata": {},
   "outputs": [
    {
     "data": {
      "text/plain": [
       "'2022-11-30T14:35:00'"
      ]
     },
     "execution_count": 88,
     "metadata": {},
     "output_type": "execute_result"
    }
   ],
   "source": [
    "json_resp['Dates'][0]"
   ]
  },
  {
   "cell_type": "markdown",
   "id": "yellow-logging",
   "metadata": {},
   "source": [
    "# Инструмент для выгрузки цен акций\n",
    "### Yfinance\n",
    "Удобный API для выгрузки данных с Yahoo Finance. Есть возможность выгрузки цен за конкретные периоды с нужным интервалом.\n",
    "Нужно отметить, что это неофициальное API Yahoo, но оно бесплатное и довольно популярное (8к звездочек на GitHub)."
   ]
  },
  {
   "cell_type": "code",
   "execution_count": 84,
   "id": "joined-multimedia",
   "metadata": {},
   "outputs": [],
   "source": [
    "import yfinance as yf"
   ]
  },
  {
   "cell_type": "markdown",
   "id": "instant-vatican",
   "metadata": {},
   "source": [
    "# Гипотеза о значимости новостей (Negative vs. Positive)\n",
    "В качестве H_0 будем предполагать, что в случае оценки новости как Negative, через сутки цена упадет, а в случае Positive - вырастет. Обозначим $\\mu _{t}$ - цена в момент выхода новости, $\\mu _{t+1}$ - цена через день. Таким образом имеем следующие бернуллиевские величины:\n",
    "\n",
    "$\\xi _{i} =\\begin{cases}\n",
    "0,\\ Prediction\\ =\\ Negative,\\ \\mu _{t} < \\mu _{t+1}{} & \\\\\n",
    "1,\\ Prediction\\ =\\ Negative,\\ \\mu _{t}  >\\mu _{t+1}{} & \\\\\n",
    "1,\\ Prediction\\ =\\ Positive,\\ \\mu _{t} < \\mu _{t+1}{} & \\\\\n",
    "0,\\ Prediction\\ =\\ Positive,\\ \\mu _{t}  >\\mu _{t+1}{} & \n",
    "\\end{cases}$\n",
    "\n",
    "В качестве гипотезы рассматриваем $H_{0} :\\theta \\  >\\ 0.5\\ vs\\ H_{1} :\\theta < 0.5$"
   ]
  },
  {
   "cell_type": "markdown",
   "id": "green-roots",
   "metadata": {},
   "source": [
    "Как и раньше, продолжим наши эксперименты над компанией Apple."
   ]
  },
  {
   "cell_type": "code",
   "execution_count": 5,
   "id": "ready-davis",
   "metadata": {},
   "outputs": [],
   "source": [
    "json_resp = cnbc.list_symbol_news(symbol='AAPL',api_key=API_KEY)"
   ]
  },
  {
   "cell_type": "code",
   "execution_count": 7,
   "id": "institutional-insider",
   "metadata": {},
   "outputs": [
    {
     "data": {
      "text/plain": [
       "25"
      ]
     },
     "execution_count": 7,
     "metadata": {},
     "output_type": "execute_result"
    }
   ],
   "source": [
    "len(json_resp['data']['symbolEntries']['results'])"
   ]
  },
  {
   "cell_type": "markdown",
   "id": "manual-camera",
   "metadata": {},
   "source": [
    "В наших лейблах - 0: Negative, 1: Neutral, 2: Positive"
   ]
  },
  {
   "cell_type": "markdown",
   "id": "bacterial-mineral",
   "metadata": {},
   "source": [
    "Как видим, новостей здесь не слишком много, поэтому рассмотрим еще какую-нибудь компанию"
   ]
  },
  {
   "cell_type": "code",
   "execution_count": 107,
   "id": "average-basketball",
   "metadata": {},
   "outputs": [
    {
     "name": "stdout",
     "output_type": "stream",
     "text": [
      "[*********************100%***********************]  1 of 1 completed\n",
      "\n",
      "1 Failed download:\n",
      "- AAPL: No data found for this date range, symbol may be delisted\n",
      "[*********************100%***********************]  1 of 1 completed\n",
      "[*********************100%***********************]  1 of 1 completed\n",
      "[*********************100%***********************]  1 of 1 completed\n",
      "[*********************100%***********************]  1 of 1 completed\n",
      "[*********************100%***********************]  1 of 1 completed\n",
      "[*********************100%***********************]  1 of 1 completed\n",
      "[*********************100%***********************]  1 of 1 completed\n",
      "[*********************100%***********************]  1 of 1 completed\n",
      "[*********************100%***********************]  1 of 1 completed\n",
      "[*********************100%***********************]  1 of 1 completed\n",
      "[*********************100%***********************]  1 of 1 completed\n",
      "[*********************100%***********************]  1 of 1 completed\n",
      "[*********************100%***********************]  1 of 1 completed\n",
      "[*********************100%***********************]  1 of 1 completed\n",
      "[*********************100%***********************]  1 of 1 completed\n",
      "[*********************100%***********************]  1 of 1 completed\n",
      "[*********************100%***********************]  1 of 1 completed\n",
      "[*********************100%***********************]  1 of 1 completed\n",
      "[*********************100%***********************]  1 of 1 completed\n",
      "[*********************100%***********************]  1 of 1 completed\n",
      "[*********************100%***********************]  1 of 1 completed\n",
      "[*********************100%***********************]  1 of 1 completed\n",
      "[*********************100%***********************]  1 of 1 completed\n",
      "[*********************100%***********************]  1 of 1 completed\n",
      "[*********************100%***********************]  1 of 1 completed\n",
      "[*********************100%***********************]  1 of 1 completed\n",
      "[*********************100%***********************]  1 of 1 completed\n",
      "[*********************100%***********************]  1 of 1 completed\n",
      "[*********************100%***********************]  1 of 1 completed\n",
      "[*********************100%***********************]  1 of 1 completed\n",
      "[*********************100%***********************]  1 of 1 completed\n",
      "[*********************100%***********************]  1 of 1 completed\n",
      "[*********************100%***********************]  1 of 1 completed\n",
      "[*********************100%***********************]  1 of 1 completed\n",
      "[*********************100%***********************]  1 of 1 completed\n",
      "[*********************100%***********************]  1 of 1 completed\n",
      "[*********************100%***********************]  1 of 1 completed\n",
      "[*********************100%***********************]  1 of 1 completed\n",
      "[*********************100%***********************]  1 of 1 completed\n",
      "[*********************100%***********************]  1 of 1 completed\n",
      "[*********************100%***********************]  1 of 1 completed\n",
      "[*********************100%***********************]  1 of 1 completed\n",
      "[*********************100%***********************]  1 of 1 completed\n",
      "[*********************100%***********************]  1 of 1 completed\n",
      "[*********************100%***********************]  1 of 1 completed\n",
      "[*********************100%***********************]  1 of 1 completed\n",
      "[*********************100%***********************]  1 of 1 completed\n",
      "[*********************100%***********************]  1 of 1 completed\n",
      "[*********************100%***********************]  1 of 1 completed\n",
      "[*********************100%***********************]  1 of 1 completed\n",
      "\n",
      "1 Failed download:\n",
      "- GOOG: No data found for this date range, symbol may be delisted\n",
      "[*********************100%***********************]  1 of 1 completed\n",
      "[*********************100%***********************]  1 of 1 completed\n",
      "[*********************100%***********************]  1 of 1 completed\n",
      "[*********************100%***********************]  1 of 1 completed\n",
      "[*********************100%***********************]  1 of 1 completed\n",
      "[*********************100%***********************]  1 of 1 completed\n",
      "[*********************100%***********************]  1 of 1 completed\n",
      "[*********************100%***********************]  1 of 1 completed\n",
      "[*********************100%***********************]  1 of 1 completed\n",
      "[*********************100%***********************]  1 of 1 completed\n",
      "[*********************100%***********************]  1 of 1 completed\n",
      "[*********************100%***********************]  1 of 1 completed\n",
      "[*********************100%***********************]  1 of 1 completed\n",
      "[*********************100%***********************]  1 of 1 completed\n",
      "[*********************100%***********************]  1 of 1 completed\n",
      "[*********************100%***********************]  1 of 1 completed\n",
      "[*********************100%***********************]  1 of 1 completed\n",
      "[*********************100%***********************]  1 of 1 completed\n",
      "[*********************100%***********************]  1 of 1 completed\n",
      "[*********************100%***********************]  1 of 1 completed\n",
      "[*********************100%***********************]  1 of 1 completed\n",
      "[*********************100%***********************]  1 of 1 completed\n",
      "\n",
      "1 Failed download:\n",
      "- GOOG: No data found for this date range, symbol may be delisted\n",
      "[*********************100%***********************]  1 of 1 completed\n",
      "[*********************100%***********************]  1 of 1 completed\n",
      "[*********************100%***********************]  1 of 1 completed\n",
      "\n",
      "1 Failed download:\n",
      "- META: No data found for this date range, symbol may be delisted\n",
      "[*********************100%***********************]  1 of 1 completed\n",
      "[*********************100%***********************]  1 of 1 completed\n",
      "[*********************100%***********************]  1 of 1 completed\n",
      "[*********************100%***********************]  1 of 1 completed\n",
      "[*********************100%***********************]  1 of 1 completed\n",
      "[*********************100%***********************]  1 of 1 completed\n",
      "[*********************100%***********************]  1 of 1 completed\n",
      "[*********************100%***********************]  1 of 1 completed\n",
      "[*********************100%***********************]  1 of 1 completed\n",
      "[*********************100%***********************]  1 of 1 completed\n",
      "[*********************100%***********************]  1 of 1 completed\n",
      "[*********************100%***********************]  1 of 1 completed\n",
      "[*********************100%***********************]  1 of 1 completed\n",
      "[*********************100%***********************]  1 of 1 completed\n",
      "[*********************100%***********************]  1 of 1 completed\n",
      "[*********************100%***********************]  1 of 1 completed\n",
      "[*********************100%***********************]  1 of 1 completed\n",
      "[*********************100%***********************]  1 of 1 completed\n",
      "[*********************100%***********************]  1 of 1 completed\n",
      "[*********************100%***********************]  1 of 1 completed\n",
      "[*********************100%***********************]  1 of 1 completed\n",
      "[*********************100%***********************]  1 of 1 completed\n",
      "[*********************100%***********************]  1 of 1 completed\n",
      "[*********************100%***********************]  1 of 1 completed\n"
     ]
    }
   ],
   "source": [
    "values = []\n",
    "tickers = ['AAPL', 'TSLA', 'GOOG', 'META']\n",
    "for ticker in tickers:\n",
    "    json_resp = cnbc.list_symbol_news(symbol=ticker,api_key=API_KEY)\n",
    "    for i in range(len(json_resp['data']['symbolEntries']['results'])):\n",
    "        date = json_resp['data']['symbolEntries']['results'][i]['dateFirstPublished']\n",
    "        parsed_date = datetime.datetime.strptime(date[:-5].replace(\"T\", \" \"), '%Y-%m-%d %H:%M:%S')\n",
    "        delta = datetime.timedelta(days=2)\n",
    "        next_day = parsed_date + delta\n",
    "\n",
    "        data = yf.download(ticker, start=f\"{parsed_date.year}-{parsed_date.month}-{parsed_date.day}\",\n",
    "                           end=f\"{next_day.year}-{next_day.month}-{next_day.day}\", interval='30m')\n",
    "        \n",
    "        if len(data.index) == 0:\n",
    "            continue\n",
    "            \n",
    "        index = np.sum(data.index.values < np.datetime64(parsed_date))\n",
    "\n",
    "        price1 = data['Open'].values[index - 1]\n",
    "        price2 = data['Open'].values[-1]\n",
    "        desc = json_resp['data']['symbolEntries']['results'][i]['description']\n",
    "        text = preprocess(desc)\n",
    "        encoded_input = tokenizer(text, return_tensors='pt')\n",
    "        output = model(**encoded_input)\n",
    "        scores = output[0][0].detach().numpy()\n",
    "        scores = softmax(scores)\n",
    "        ranking = np.argsort(scores)\n",
    "        ranking = ranking[::-1]\n",
    "        rank = ranking[0]\n",
    "        if rank == 0:\n",
    "            values.append(price1 >= price2)\n",
    "        elif rank == 2:\n",
    "            values.append(price1 <= price2)\n"
   ]
  },
  {
   "cell_type": "code",
   "execution_count": 112,
   "id": "hazardous-nickel",
   "metadata": {},
   "outputs": [
    {
     "data": {
      "text/plain": [
       "0.6296296296296297"
      ]
     },
     "execution_count": 112,
     "metadata": {},
     "output_type": "execute_result"
    }
   ],
   "source": [
    "theta = np.sum(values) / len(values)\n",
    "theta"
   ]
  },
  {
   "cell_type": "markdown",
   "id": "retired-cleaner",
   "metadata": {},
   "source": [
    "Для проверки гипотез воспользуемся биномиальным тестом"
   ]
  },
  {
   "cell_type": "code",
   "execution_count": 110,
   "id": "unauthorized-newark",
   "metadata": {},
   "outputs": [],
   "source": [
    "from scipy import stats"
   ]
  },
  {
   "cell_type": "code",
   "execution_count": 111,
   "id": "baking-framework",
   "metadata": {},
   "outputs": [
    {
     "data": {
      "text/plain": [
       "0.9389609396457672"
      ]
     },
     "execution_count": 111,
     "metadata": {},
     "output_type": "execute_result"
    }
   ],
   "source": [
    "stats.binom_test(np.sum(values), n=len(values), p=0.5, alternative='less')"
   ]
  },
  {
   "cell_type": "markdown",
   "id": "graphic-cutting",
   "metadata": {},
   "source": [
    "Мы не отвергаем гипотезу H_0 о значимости новостей. При этом theta = 0.63"
   ]
  },
  {
   "cell_type": "markdown",
   "id": "preceding-shooting",
   "metadata": {},
   "source": [
    "# Гипотеза о значимости новостей"
   ]
  },
  {
   "cell_type": "markdown",
   "id": "surprised-insight",
   "metadata": {},
   "source": [
    "В данном случае будем замерять изменении цены при нейтральном окрасе новости и изменении цены при положительном или негативном окрасе. Обозначим за $\\overline{\\xi _{NN}}$ - среднее изменение при положительном или негативном окрасе (NN = NonNeutral), и $\\overline{\\xi _{N}}$ - среднее изменение при нейтральном окрасе.\n",
    "\n",
    "Будем проверять гипотезу $H_{0} : \\overline{\\xi _{NN}} - \\overline{\\xi _{N}}\\  =\\ 0\\ vs\\ H_{1} :\\overline{\\xi _{NN}} - \\overline{\\xi _{N}} < 0$"
   ]
  },
  {
   "cell_type": "code",
   "execution_count": 114,
   "id": "split-protein",
   "metadata": {},
   "outputs": [
    {
     "name": "stdout",
     "output_type": "stream",
     "text": [
      "[*********************100%***********************]  1 of 1 completed\n",
      "\n",
      "1 Failed download:\n",
      "- AAPL: No data found for this date range, symbol may be delisted\n",
      "[*********************100%***********************]  1 of 1 completed\n",
      "\n",
      "1 Failed download:\n",
      "- AAPL: No data found for this date range, symbol may be delisted\n",
      "[*********************100%***********************]  1 of 1 completed\n",
      "[*********************100%***********************]  1 of 1 completed\n",
      "[*********************100%***********************]  1 of 1 completed\n",
      "[*********************100%***********************]  1 of 1 completed\n",
      "[*********************100%***********************]  1 of 1 completed\n",
      "[*********************100%***********************]  1 of 1 completed\n",
      "[*********************100%***********************]  1 of 1 completed\n",
      "[*********************100%***********************]  1 of 1 completed\n",
      "[*********************100%***********************]  1 of 1 completed\n",
      "[*********************100%***********************]  1 of 1 completed\n",
      "[*********************100%***********************]  1 of 1 completed\n",
      "[*********************100%***********************]  1 of 1 completed\n",
      "[*********************100%***********************]  1 of 1 completed\n",
      "[*********************100%***********************]  1 of 1 completed\n",
      "[*********************100%***********************]  1 of 1 completed\n",
      "[*********************100%***********************]  1 of 1 completed\n",
      "[*********************100%***********************]  1 of 1 completed\n",
      "[*********************100%***********************]  1 of 1 completed\n",
      "[*********************100%***********************]  1 of 1 completed\n",
      "[*********************100%***********************]  1 of 1 completed\n",
      "[*********************100%***********************]  1 of 1 completed\n",
      "[*********************100%***********************]  1 of 1 completed\n",
      "[*********************100%***********************]  1 of 1 completed\n",
      "[*********************100%***********************]  1 of 1 completed\n",
      "\n",
      "1 Failed download:\n",
      "- TSLA: No data found for this date range, symbol may be delisted\n",
      "[*********************100%***********************]  1 of 1 completed\n",
      "[*********************100%***********************]  1 of 1 completed\n",
      "[*********************100%***********************]  1 of 1 completed\n",
      "[*********************100%***********************]  1 of 1 completed\n",
      "[*********************100%***********************]  1 of 1 completed\n",
      "[*********************100%***********************]  1 of 1 completed\n",
      "[*********************100%***********************]  1 of 1 completed\n",
      "[*********************100%***********************]  1 of 1 completed\n",
      "[*********************100%***********************]  1 of 1 completed\n",
      "[*********************100%***********************]  1 of 1 completed\n",
      "[*********************100%***********************]  1 of 1 completed\n",
      "[*********************100%***********************]  1 of 1 completed\n",
      "[*********************100%***********************]  1 of 1 completed\n",
      "[*********************100%***********************]  1 of 1 completed\n",
      "[*********************100%***********************]  1 of 1 completed\n",
      "[*********************100%***********************]  1 of 1 completed\n",
      "[*********************100%***********************]  1 of 1 completed\n",
      "[*********************100%***********************]  1 of 1 completed\n",
      "[*********************100%***********************]  1 of 1 completed\n",
      "[*********************100%***********************]  1 of 1 completed\n",
      "[*********************100%***********************]  1 of 1 completed\n",
      "[*********************100%***********************]  1 of 1 completed\n",
      "[*********************100%***********************]  1 of 1 completed\n",
      "[*********************100%***********************]  1 of 1 completed\n",
      "[*********************100%***********************]  1 of 1 completed\n",
      "\n",
      "1 Failed download:\n",
      "- GOOG: No data found for this date range, symbol may be delisted\n",
      "[*********************100%***********************]  1 of 1 completed\n",
      "[*********************100%***********************]  1 of 1 completed\n",
      "[*********************100%***********************]  1 of 1 completed\n",
      "[*********************100%***********************]  1 of 1 completed\n",
      "[*********************100%***********************]  1 of 1 completed\n",
      "[*********************100%***********************]  1 of 1 completed\n",
      "[*********************100%***********************]  1 of 1 completed\n",
      "[*********************100%***********************]  1 of 1 completed\n",
      "[*********************100%***********************]  1 of 1 completed\n",
      "[*********************100%***********************]  1 of 1 completed\n",
      "[*********************100%***********************]  1 of 1 completed\n",
      "[*********************100%***********************]  1 of 1 completed\n",
      "[*********************100%***********************]  1 of 1 completed\n",
      "[*********************100%***********************]  1 of 1 completed\n",
      "[*********************100%***********************]  1 of 1 completed\n",
      "[*********************100%***********************]  1 of 1 completed\n",
      "[*********************100%***********************]  1 of 1 completed\n",
      "[*********************100%***********************]  1 of 1 completed\n",
      "[*********************100%***********************]  1 of 1 completed\n",
      "[*********************100%***********************]  1 of 1 completed\n",
      "[*********************100%***********************]  1 of 1 completed\n",
      "[*********************100%***********************]  1 of 1 completed\n",
      "\n",
      "1 Failed download:\n",
      "- GOOG: No data found for this date range, symbol may be delisted\n",
      "[*********************100%***********************]  1 of 1 completed\n",
      "[*********************100%***********************]  1 of 1 completed\n",
      "[*********************100%***********************]  1 of 1 completed\n",
      "\n",
      "1 Failed download:\n",
      "- META: No data found for this date range, symbol may be delisted\n",
      "[*********************100%***********************]  1 of 1 completed\n",
      "[*********************100%***********************]  1 of 1 completed\n",
      "[*********************100%***********************]  1 of 1 completed\n",
      "[*********************100%***********************]  1 of 1 completed\n",
      "[*********************100%***********************]  1 of 1 completed\n",
      "[*********************100%***********************]  1 of 1 completed\n",
      "[*********************100%***********************]  1 of 1 completed\n",
      "[*********************100%***********************]  1 of 1 completed\n",
      "[*********************100%***********************]  1 of 1 completed\n",
      "[*********************100%***********************]  1 of 1 completed\n",
      "[*********************100%***********************]  1 of 1 completed\n",
      "[*********************100%***********************]  1 of 1 completed\n",
      "[*********************100%***********************]  1 of 1 completed\n",
      "[*********************100%***********************]  1 of 1 completed\n",
      "[*********************100%***********************]  1 of 1 completed\n",
      "[*********************100%***********************]  1 of 1 completed\n",
      "[*********************100%***********************]  1 of 1 completed\n",
      "[*********************100%***********************]  1 of 1 completed\n",
      "[*********************100%***********************]  1 of 1 completed\n",
      "[*********************100%***********************]  1 of 1 completed\n",
      "[*********************100%***********************]  1 of 1 completed\n",
      "[*********************100%***********************]  1 of 1 completed\n",
      "[*********************100%***********************]  1 of 1 completed\n",
      "[*********************100%***********************]  1 of 1 completed\n"
     ]
    }
   ],
   "source": [
    "valuesNN = []\n",
    "valuesN = []\n",
    "tickers = ['AAPL', 'TSLA', 'GOOG', 'META']\n",
    "for ticker in tickers:\n",
    "    json_resp = cnbc.list_symbol_news(symbol=ticker,api_key=API_KEY)\n",
    "    for i in range(len(json_resp['data']['symbolEntries']['results'])):\n",
    "        date = json_resp['data']['symbolEntries']['results'][i]['dateFirstPublished']\n",
    "        parsed_date = datetime.datetime.strptime(date[:-5].replace(\"T\", \" \"), '%Y-%m-%d %H:%M:%S')\n",
    "        delta = datetime.timedelta(days=2)\n",
    "        next_day = parsed_date + delta\n",
    "\n",
    "        data = yf.download(ticker, start=f\"{parsed_date.year}-{parsed_date.month}-{parsed_date.day}\",\n",
    "                           end=f\"{next_day.year}-{next_day.month}-{next_day.day}\", interval='30m')\n",
    "        \n",
    "        if len(data.index) == 0:\n",
    "            continue\n",
    "            \n",
    "        index = np.sum(data.index.values < np.datetime64(parsed_date))\n",
    "\n",
    "        price1 = data['Open'].values[index - 1]\n",
    "        price2 = data['Open'].values[-1]\n",
    "        desc = json_resp['data']['symbolEntries']['results'][i]['description']\n",
    "        text = preprocess(desc)\n",
    "        encoded_input = tokenizer(text, return_tensors='pt')\n",
    "        output = model(**encoded_input)\n",
    "        scores = output[0][0].detach().numpy()\n",
    "        scores = softmax(scores)\n",
    "        ranking = np.argsort(scores)\n",
    "        ranking = ranking[::-1]\n",
    "        rank = ranking[0]\n",
    "        if rank == 1:\n",
    "            valuesN.append(np.abs(price1 - price2))\n",
    "        else:\n",
    "            valuesNN.append(np.abs(price1 - price2))\n"
   ]
  },
  {
   "cell_type": "code",
   "execution_count": 124,
   "id": "integral-chess",
   "metadata": {},
   "outputs": [
    {
     "data": {
      "text/plain": [
       "1.375470105339499"
      ]
     },
     "execution_count": 124,
     "metadata": {},
     "output_type": "execute_result"
    }
   ],
   "source": [
    "np.mean(valuesNN)"
   ]
  },
  {
   "cell_type": "code",
   "execution_count": 125,
   "id": "pointed-heating",
   "metadata": {},
   "outputs": [
    {
     "data": {
      "text/plain": [
       "1.1781798142653246"
      ]
     },
     "execution_count": 125,
     "metadata": {},
     "output_type": "execute_result"
    }
   ],
   "source": [
    "np.mean(valuesN)"
   ]
  },
  {
   "cell_type": "markdown",
   "id": "racial-tooth",
   "metadata": {},
   "source": [
    "Для теста воспользуемся предположением о нормальности выборок и используем ttest"
   ]
  },
  {
   "cell_type": "code",
   "execution_count": 123,
   "id": "north-columbia",
   "metadata": {},
   "outputs": [
    {
     "data": {
      "text/plain": [
       "Ttest_indResult(statistic=-0.44506793850589327, pvalue=0.6713419633808011)"
      ]
     },
     "execution_count": 123,
     "metadata": {},
     "output_type": "execute_result"
    }
   ],
   "source": [
    "stats.ttest_ind(valuesNN, valuesN, alternative='greater')"
   ]
  },
  {
   "cell_type": "markdown",
   "id": "overhead-amount",
   "metadata": {},
   "source": [
    "В данном случае имеем p_val = 0.67, мы не отвергаем нашу гипотезу, но имеем не слишком большую уверенность."
   ]
  },
  {
   "cell_type": "markdown",
   "id": "split-installation",
   "metadata": {},
   "source": [
    "# Датасет\n",
    "\n",
    "Так как в данный момент собранного датасета нет(на это уйдет много времени), был найден следующий дамп новостей о компании Apple с января по февраль 2021 года."
   ]
  },
  {
   "cell_type": "code",
   "execution_count": 15,
   "id": "threatened-shelter",
   "metadata": {},
   "outputs": [],
   "source": [
    "news_file = open(\"data.txt\", \"r\")"
   ]
  },
  {
   "cell_type": "code",
   "execution_count": 16,
   "id": "satisfactory-japanese",
   "metadata": {},
   "outputs": [
    {
     "name": "stdout",
     "output_type": "stream",
     "text": [
      "2021-01-01 00:12:39 AAPL.TiingoNews article description at 2021-01-01 00:12:39 and 2021-01-01 05:00:01+00:00: Every month during 2021, we'll share the best inspirational quotes for each day. Here's the first of 12 installments, plus a free ebook full of extra inspiration.\n",
      "\n",
      "2021-01-01 01:46:31 AAPL.TiingoNews article description at 2021-01-01 01:46:31 and 2021-01-01 06:30:51+00:00: On this week's episode, the illustrious art critic speaks to Artnet News's Ben Davis about their craft, the art scene, and much more.\n",
      "\n",
      "2021-01-01 02:04:36 AAPL.TiingoNews article description at 2021-01-01 02:04:36 and 2021-01-01 07:00:48+00:00: Foldables, rollables and more\n",
      "\n",
      "2021-01-01 03:06:11 AAPL.TiingoNews article description at 2021-01-01 03:06:11 and 2021-01-01 08:01:49+00:00: The microSD slot may not be featured on the Galaxy S21, according to a prominent leaker\n",
      "\n",
      "2021-01-01 04:35:49 AAPL.TiingoNews article description at 2021-01-01 04:35:49 and 2021-01-01 09:30:00+00:00: The Mouse House stock took quite a round trip in 2020. \n",
      "\n",
      "2021-01-01 05:10:33 AAPL.TiingoNews article description at 2021-01-01 05:10:33 and 2021-01-01 09:42:05+00:00: The Nasdaq Composite, the tech-heavy index, gained the most among these three US indices, rallying more than 43 percent in 20202.\n",
      "\n",
      "2021-01-01 05:10:55 AAPL.TiingoNews article description at 2021-01-01 05:10:55 and 2021-01-01 10:00:25+00:00: Samsung has big plans for foldable phones in the coming year\n",
      "\n",
      "2021-01-01 05:54:21 AAPL.TiingoNews article description at 2021-01-01 05:54:21 and 2021-01-01 10:38:19+00:00: Immigration experts and H-1B visa aspirants expect the extension to have a minimal impact with Joe Biden set to take over as president, potential lawsuits, consulates operating with fewer staff and the increase in offshoring.\n",
      "\n",
      "2021-01-01 06:12:28 AAPL.TiingoNews article description at 2021-01-01 06:12:28 and 2021-01-01 11:03:38+00:00: It?s that time of the year again when we look back to the past 12 months and take out our crystal balls to divine the next 12. Of course, we?re not fortunetellers or clairvoyants but we?\n",
      "\n",
      "2021-01-01 06:14:02 AAPL.TiingoNews article description at 2021-01-01 06:14:02 and 2021-01-01 10:46:03+00:00: Steve Jobs changed personal computing and reshaped the music and animation industries. Elon Musk is aiming for Mars and beyond while revolutionising mobility. Who gets the most votes, read on\n",
      "\n"
     ]
    }
   ],
   "source": [
    "for i in range(10): \n",
    "    print(news_file.readline())"
   ]
  },
  {
   "cell_type": "markdown",
   "id": "alone-assessment",
   "metadata": {},
   "source": [
    "Как видим, датасету необходима предобработка.\n",
    "\n",
    "Для начала переведем txt-файл в DataFrame, выделяя отдельно дату и новость."
   ]
  },
  {
   "cell_type": "code",
   "execution_count": 30,
   "id": "disciplinary-elements",
   "metadata": {},
   "outputs": [],
   "source": [
    "line = news_file.readline()"
   ]
  },
  {
   "cell_type": "code",
   "execution_count": 31,
   "id": "controlled-toner",
   "metadata": {},
   "outputs": [
    {
     "data": {
      "text/plain": [
       "'2021-01-01 14:49:39 AAPL.TiingoNews article description at 2021-01-01 14:49:39 and 2021-01-01 19:45:00+00:00: The largest 7?stocks by market capitalization substantially outperformed the S&P 500 and the Dow Jones Industrial Average in 2020.?The market capitalization of these stocks equals $8.75 trillion, about 27% of the total capitalization of the S&P 500.\\n'"
      ]
     },
     "execution_count": 31,
     "metadata": {},
     "output_type": "execute_result"
    }
   ],
   "source": [
    "line"
   ]
  },
  {
   "cell_type": "code",
   "execution_count": 32,
   "id": "instant-gardening",
   "metadata": {},
   "outputs": [
    {
     "data": {
      "text/plain": [
       "19"
      ]
     },
     "execution_count": 32,
     "metadata": {},
     "output_type": "execute_result"
    }
   ],
   "source": [
    "date_len = len(\"2021-01-01 06:46:37\")\n",
    "date_len "
   ]
  },
  {
   "cell_type": "code",
   "execution_count": 33,
   "id": "pending-mills",
   "metadata": {},
   "outputs": [
    {
     "data": {
      "text/plain": [
       "109"
      ]
     },
     "execution_count": 33,
     "metadata": {},
     "output_type": "execute_result"
    }
   ],
   "source": [
    "useless_text_len = len(\"2021-01-01 01:46:31 AAPL.TiingoNews article description at 2021-01-01 01:46:31 and 2021-01-01 06:30:51+00:00:\")\n",
    "useless_text_len"
   ]
  },
  {
   "cell_type": "code",
   "execution_count": 35,
   "id": "exterior-trial",
   "metadata": {},
   "outputs": [
    {
     "data": {
      "text/plain": [
       "'2021-01-01 14:49:39'"
      ]
     },
     "execution_count": 35,
     "metadata": {},
     "output_type": "execute_result"
    }
   ],
   "source": [
    "date = line[:date_len]\n",
    "date"
   ]
  },
  {
   "cell_type": "code",
   "execution_count": 37,
   "id": "dutch-scoop",
   "metadata": {},
   "outputs": [
    {
     "data": {
      "text/plain": [
       "datetime.datetime(2021, 1, 1, 14, 49, 39)"
      ]
     },
     "execution_count": 37,
     "metadata": {},
     "output_type": "execute_result"
    }
   ],
   "source": [
    "date_time_obj = datetime.datetime.strptime(date, '%Y-%m-%d %H:%M:%S')\n",
    "date_time_obj"
   ]
  },
  {
   "cell_type": "markdown",
   "id": "guilty-burst",
   "metadata": {},
   "source": [
    "Дата составляет первые 19 символов, а технический текст, составляет 109 символов.\n",
    "Проверим:"
   ]
  },
  {
   "cell_type": "code",
   "execution_count": 28,
   "id": "little-anthropology",
   "metadata": {},
   "outputs": [
    {
     "name": "stdout",
     "output_type": "stream",
     "text": [
      "Date: 2021-01-01 08:20:34 Text:  Jamf Holding Corp. (NYSEARCA:JAMF)?s stock price reached a new 52-week low on Wednesday . The company traded as low as $29.55 and last traded at $29.55, with a volume of 8810 shares changing hands. The stock had previously closed at $30.18. Separately, Zacks Investment Research upgraded shares of Jamf from a ?hold? rating to a [?]\n",
      "\n",
      "Date: 2021-01-01 08:32:23 Text:  Why digital lenders face RBI's flak\n",
      "\n",
      "Date: 2021-01-01 10:09:31 Text:  The tech giant is now worth nearly $2.3 trillion.\n",
      "\n",
      "Date: 2021-01-01 10:34:45 Text:  Wet behind the ears\n",
      "\n",
      "Date: 2021-01-01 11:30:54 Text:  New Year's savings on TVs, Fitbits, appliances, and more\n",
      "\n",
      "Date: 2021-01-01 11:31:25 Text:  Dean Takahashi of GamesBeat makes his annual predictions about where gaming will go. Let's hope 2021 will be a better year all around.\n",
      "\n",
      "Date: 2021-01-01 13:22:43 Text:  I?ve got three high-yield closed-end funds (CEFs) with dividends up to 8% that are nicely positioned for strong gains in the next 12 months and beyond.\n",
      "\n",
      "Date: 2021-01-01 13:51:53 Text:  Moisture and electronics don't mix well\n",
      "\n",
      "Date: 2021-01-01 14:08:42 Text:  Today we are taking a closer look at the the company?s new covers for Apple?s latest handsets in our Bellroy Phone Case review.\n",
      "\n",
      "Date: 2021-01-01 14:09:56 Text:  Crimson Tide and Fighting Irish play in today's first semi-final\n",
      "\n"
     ]
    }
   ],
   "source": [
    "for i in range(10): \n",
    "    line = news_file.readline()\n",
    "    print(f'Date: {line[:date_len]} Text: {line[useless_text_len:]}')"
   ]
  },
  {
   "cell_type": "markdown",
   "id": "after-passion",
   "metadata": {},
   "source": [
    "Как можно увидеть - далеко не все новости попадают под нужную нам категорию (например - последняя).\n",
    "\n",
    "Уберем новости, которые идут одна за другой и при этом имеют одинаковые префиксы(пусть это будет 50 символов).\n",
    "\n",
    "Те строчки, которые начинаются не с даты - скипаем, это - мусор.\n",
    "\n",
    "Попробуем действовать просто и оставим только те новости, где есть упоминание Apple или AAPL. Заодно спарсим даты.\n"
   ]
  },
  {
   "cell_type": "code",
   "execution_count": 51,
   "id": "imposed-hunger",
   "metadata": {},
   "outputs": [],
   "source": [
    "array = []\n",
    "news_file = open(\"data.txt\", \"r\")\n",
    "text = ''\n",
    "for line in news_file:\n",
    "    if text[:50] == line[useless_text_len: useless_text_len + 50].lower():\n",
    "        continue\n",
    "    try:\n",
    "        date = datetime.datetime.strptime(line[:date_len], '%Y-%m-%d %H:%M:%S')\n",
    "    except ValueError:\n",
    "        continue\n",
    "    text = line[useless_text_len:].lower()\n",
    "    array.append([date, text])"
   ]
  },
  {
   "cell_type": "code",
   "execution_count": 52,
   "id": "hundred-perspective",
   "metadata": {},
   "outputs": [
    {
     "data": {
      "text/plain": [
       "7348"
      ]
     },
     "execution_count": 52,
     "metadata": {},
     "output_type": "execute_result"
    }
   ],
   "source": [
    "len(array)"
   ]
  },
  {
   "cell_type": "markdown",
   "id": "ideal-player",
   "metadata": {},
   "source": [
    "До чистки получили довольно большой датасет. Оставим новости с упоминанием Apple."
   ]
  },
  {
   "cell_type": "code",
   "execution_count": 61,
   "id": "genetic-latter",
   "metadata": {},
   "outputs": [],
   "source": [
    "labels = ['apple', 'aapl', 'iphone', 'ipad', 'mac', 'airpod']"
   ]
  },
  {
   "cell_type": "code",
   "execution_count": 62,
   "id": "creative-stockholm",
   "metadata": {},
   "outputs": [],
   "source": [
    "clear_array = []\n",
    "for news in array:\n",
    "    chk = False\n",
    "    for label in labels:\n",
    "        chk = chk or (not (news[1].find(label) == -1))\n",
    "    if chk:\n",
    "        clear_array.append(news)"
   ]
  },
  {
   "cell_type": "code",
   "execution_count": 64,
   "id": "serial-print",
   "metadata": {},
   "outputs": [
    {
     "data": {
      "text/plain": [
       "2092"
      ]
     },
     "execution_count": 64,
     "metadata": {},
     "output_type": "execute_result"
    }
   ],
   "source": [
    "len(clear_array)"
   ]
  },
  {
   "cell_type": "code",
   "execution_count": 68,
   "id": "respiratory-pocket",
   "metadata": {},
   "outputs": [
    {
     "data": {
      "text/html": [
       "<div>\n",
       "<style scoped>\n",
       "    .dataframe tbody tr th:only-of-type {\n",
       "        vertical-align: middle;\n",
       "    }\n",
       "\n",
       "    .dataframe tbody tr th {\n",
       "        vertical-align: top;\n",
       "    }\n",
       "\n",
       "    .dataframe thead th {\n",
       "        text-align: right;\n",
       "    }\n",
       "</style>\n",
       "<table border=\"1\" class=\"dataframe\">\n",
       "  <thead>\n",
       "    <tr style=\"text-align: right;\">\n",
       "      <th></th>\n",
       "      <th>Date</th>\n",
       "      <th>Text</th>\n",
       "    </tr>\n",
       "  </thead>\n",
       "  <tbody>\n",
       "    <tr>\n",
       "      <th>0</th>\n",
       "      <td>2021-01-01 06:46:37</td>\n",
       "      <td>apple inc. (nasdaq: aapl) shares held several...</td>\n",
       "    </tr>\n",
       "    <tr>\n",
       "      <th>1</th>\n",
       "      <td>2021-01-01 14:08:42</td>\n",
       "      <td>today we are taking a closer look at the the ...</td>\n",
       "    </tr>\n",
       "    <tr>\n",
       "      <th>2</th>\n",
       "      <td>2021-01-02 00:33:54</td>\n",
       "      <td>the iphone 13 promises a better design, longe...</td>\n",
       "    </tr>\n",
       "    <tr>\n",
       "      <th>3</th>\n",
       "      <td>2021-01-02 01:09:40</td>\n",
       "      <td>is 2021 the year apple embraces a portless wo...</td>\n",
       "    </tr>\n",
       "    <tr>\n",
       "      <th>4</th>\n",
       "      <td>2021-01-02 01:09:46</td>\n",
       "      <td>the samsung galaxy smarttag is shaping up to ...</td>\n",
       "    </tr>\n",
       "  </tbody>\n",
       "</table>\n",
       "</div>"
      ],
      "text/plain": [
       "                 Date                                               Text\n",
       "0 2021-01-01 06:46:37   apple inc. (nasdaq: aapl) shares held several...\n",
       "1 2021-01-01 14:08:42   today we are taking a closer look at the the ...\n",
       "2 2021-01-02 00:33:54   the iphone 13 promises a better design, longe...\n",
       "3 2021-01-02 01:09:40   is 2021 the year apple embraces a portless wo...\n",
       "4 2021-01-02 01:09:46   the samsung galaxy smarttag is shaping up to ..."
      ]
     },
     "execution_count": 68,
     "metadata": {},
     "output_type": "execute_result"
    }
   ],
   "source": [
    "news_df = pd.DataFrame(clear_array, columns=['Date', 'Text'])\n",
    "news_df.head(5)"
   ]
  },
  {
   "cell_type": "code",
   "execution_count": 69,
   "id": "continuing-oxygen",
   "metadata": {},
   "outputs": [],
   "source": [
    "news_df.to_csv(\"clear-data.csv\")"
   ]
  },
  {
   "cell_type": "markdown",
   "id": "juvenile-cleanup",
   "metadata": {},
   "source": [
    "Датасет уменьшился, но теперь там более-менее те новости, которые как-то относятся к теме"
   ]
  },
  {
   "cell_type": "markdown",
   "id": "demonstrated-technique",
   "metadata": {},
   "source": [
    "# Модель"
   ]
  },
  {
   "cell_type": "markdown",
   "id": "governing-stack",
   "metadata": {},
   "source": [
    "Данные об изменении цены достанем таким же образом, как и при онлайн исследовании.\n",
    "\n",
    "Сузим нашу задачу до предсказывания как поведет себя цена в следующий момент времени: вверх или вниз.\n",
    "\n",
    "Так как нам не важно хорошо предсказывать изначально, а хочется проверить как влияют новости, рассмотрим простую модель бустинга. В качестве фич будем иметь: временные(день, месяц, час), прошлые(допустим, это будет 10 прошлых измерений), новостные признаки(20 признаков - на каждое прошлое измерение будем писать вероятность Negative и Positive, выданные моделью). Таргет будет бинарный - вверх или вниз."
   ]
  },
  {
   "cell_type": "markdown",
   "id": "valued-malaysia",
   "metadata": {},
   "source": [
    "## Составление данных для обучения и проверки качества"
   ]
  },
  {
   "cell_type": "code",
   "execution_count": 70,
   "id": "established-lobby",
   "metadata": {},
   "outputs": [],
   "source": [
    "shift = 10"
   ]
  },
  {
   "cell_type": "code",
   "execution_count": 76,
   "id": "alive-exchange",
   "metadata": {},
   "outputs": [],
   "source": [
    "dates = news_df['Date'].values"
   ]
  },
  {
   "cell_type": "code",
   "execution_count": 85,
   "id": "instructional-cherry",
   "metadata": {},
   "outputs": [
    {
     "name": "stderr",
     "output_type": "stream",
     "text": [
      "<ipython-input-85-3b2958a2290a>:1: DeprecationWarning: an integer is required (got type numpy.datetime64).  Implicit conversion to integers using __int__ is deprecated, and may be removed in a future version of Python.\n",
      "  start_date = datetime.datetime.fromtimestamp(dates[0])\n"
     ]
    },
    {
     "ename": "OSError",
     "evalue": "[Errno 22] Invalid argument",
     "output_type": "error",
     "traceback": [
      "\u001b[1;31m---------------------------------------------------------------------------\u001b[0m",
      "\u001b[1;31mOSError\u001b[0m                                   Traceback (most recent call last)",
      "\u001b[1;32m<ipython-input-85-3b2958a2290a>\u001b[0m in \u001b[0;36m<module>\u001b[1;34m\u001b[0m\n\u001b[1;32m----> 1\u001b[1;33m \u001b[0mstart_date\u001b[0m \u001b[1;33m=\u001b[0m \u001b[0mdatetime\u001b[0m\u001b[1;33m.\u001b[0m\u001b[0mdatetime\u001b[0m\u001b[1;33m.\u001b[0m\u001b[0mfromtimestamp\u001b[0m\u001b[1;33m(\u001b[0m\u001b[0mdates\u001b[0m\u001b[1;33m[\u001b[0m\u001b[1;36m0\u001b[0m\u001b[1;33m]\u001b[0m\u001b[1;33m)\u001b[0m\u001b[1;33m\u001b[0m\u001b[1;33m\u001b[0m\u001b[0m\n\u001b[0m\u001b[0;32m      2\u001b[0m \u001b[0mfinish_date\u001b[0m \u001b[1;33m=\u001b[0m \u001b[0mdatetime\u001b[0m\u001b[1;33m.\u001b[0m\u001b[0mdatetime\u001b[0m\u001b[1;33m.\u001b[0m\u001b[0mfromtimestamp\u001b[0m\u001b[1;33m(\u001b[0m\u001b[0mdates\u001b[0m\u001b[1;33m[\u001b[0m\u001b[1;33m-\u001b[0m\u001b[1;36m1\u001b[0m\u001b[1;33m]\u001b[0m\u001b[1;33m)\u001b[0m\u001b[1;33m\u001b[0m\u001b[1;33m\u001b[0m\u001b[0m\n",
      "\u001b[1;31mOSError\u001b[0m: [Errno 22] Invalid argument"
     ]
    }
   ],
   "source": [
    "start_date = datetime.datetime.fromtimestamp(dates[0])\n",
    "finish_date = datetime.datetime.fromtimestamp(dates[-1])"
   ]
  },
  {
   "cell_type": "code",
   "execution_count": 83,
   "id": "emotional-conversation",
   "metadata": {},
   "outputs": [
    {
     "data": {
      "text/plain": [
       "0        1\n",
       "1        1\n",
       "2        2\n",
       "3        2\n",
       "4        2\n",
       "        ..\n",
       "2087    11\n",
       "2088    11\n",
       "2089    11\n",
       "2090    11\n",
       "2091    11\n",
       "Length: 2092, dtype: int64"
      ]
     },
     "execution_count": 83,
     "metadata": {},
     "output_type": "execute_result"
    }
   ],
   "source": [
    "days = pd.Series(dates).apply(lambda x: x.day)\n",
    "month = pd.Series(dates).apply(lambda x: x.month)"
   ]
  },
  {
   "cell_type": "code",
   "execution_count": null,
   "id": "human-boulder",
   "metadata": {},
   "outputs": [],
   "source": [
    "\n",
    "data = yf.download(ticker, start=f\"{parsed_date.year}-{parsed_date.month}-{parsed_date.day}\",\n",
    "                           end=f\"{next_day.year}-{next_day.month}-{next_day.day}\", interval='30m')"
   ]
  }
 ],
 "metadata": {
  "kernelspec": {
   "display_name": "Python 3",
   "language": "python",
   "name": "python3"
  },
  "language_info": {
   "codemirror_mode": {
    "name": "ipython",
    "version": 3
   },
   "file_extension": ".py",
   "mimetype": "text/x-python",
   "name": "python",
   "nbconvert_exporter": "python",
   "pygments_lexer": "ipython3",
   "version": "3.8.2"
  }
 },
 "nbformat": 4,
 "nbformat_minor": 5
}
